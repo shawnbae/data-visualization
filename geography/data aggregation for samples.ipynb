{
 "cells": [
  {
   "cell_type": "code",
   "execution_count": 8,
   "metadata": {
    "ExecuteTime": {
     "end_time": "2019-11-07T07:07:53.423898Z",
     "start_time": "2019-11-07T07:07:53.421454Z"
    }
   },
   "outputs": [],
   "source": [
    "import geopandas as gpd\n",
    "import pandas as pd"
   ]
  },
  {
   "cell_type": "code",
   "execution_count": 3,
   "metadata": {
    "ExecuteTime": {
     "end_time": "2019-11-07T07:07:21.171712Z",
     "start_time": "2019-11-07T07:07:15.196887Z"
    }
   },
   "outputs": [],
   "source": [
    "hgd = gpd.read_file('data/HangJeongDong_ver20190908.geojson')"
   ]
  },
  {
   "cell_type": "code",
   "execution_count": 5,
   "metadata": {
    "ExecuteTime": {
     "end_time": "2019-11-07T07:07:43.727157Z",
     "start_time": "2019-11-07T07:07:43.712241Z"
    }
   },
   "outputs": [
    {
     "data": {
      "text/html": [
       "<div>\n",
       "<style scoped>\n",
       "    .dataframe tbody tr th:only-of-type {\n",
       "        vertical-align: middle;\n",
       "    }\n",
       "\n",
       "    .dataframe tbody tr th {\n",
       "        vertical-align: top;\n",
       "    }\n",
       "\n",
       "    .dataframe thead th {\n",
       "        text-align: right;\n",
       "    }\n",
       "</style>\n",
       "<table border=\"1\" class=\"dataframe\">\n",
       "  <thead>\n",
       "    <tr style=\"text-align: right;\">\n",
       "      <th></th>\n",
       "      <th>OBJECTID</th>\n",
       "      <th>adm_nm</th>\n",
       "      <th>adm_cd</th>\n",
       "      <th>adm_cd2</th>\n",
       "      <th>geometry</th>\n",
       "    </tr>\n",
       "  </thead>\n",
       "  <tbody>\n",
       "    <tr>\n",
       "      <th>0</th>\n",
       "      <td>1</td>\n",
       "      <td>서울특별시 종로구 사직동</td>\n",
       "      <td>1101053</td>\n",
       "      <td>1111053000</td>\n",
       "      <td>(POLYGON ((126.9768888427482 37.57565077944879...</td>\n",
       "    </tr>\n",
       "    <tr>\n",
       "      <th>1</th>\n",
       "      <td>2</td>\n",
       "      <td>서울특별시 종로구 삼청동</td>\n",
       "      <td>1101054</td>\n",
       "      <td>1111054000</td>\n",
       "      <td>(POLYGON ((126.982689386493 37.5950655194224, ...</td>\n",
       "    </tr>\n",
       "    <tr>\n",
       "      <th>2</th>\n",
       "      <td>3</td>\n",
       "      <td>서울특별시 종로구 부암동</td>\n",
       "      <td>1101055</td>\n",
       "      <td>1111055000</td>\n",
       "      <td>(POLYGON ((126.9758511377569 37.59656422224408...</td>\n",
       "    </tr>\n",
       "    <tr>\n",
       "      <th>3</th>\n",
       "      <td>4</td>\n",
       "      <td>서울특별시 종로구 평창동</td>\n",
       "      <td>1101056</td>\n",
       "      <td>1111056000</td>\n",
       "      <td>(POLYGON ((126.9750746678809 37.63138628651299...</td>\n",
       "    </tr>\n",
       "    <tr>\n",
       "      <th>4</th>\n",
       "      <td>5</td>\n",
       "      <td>서울특별시 종로구 무악동</td>\n",
       "      <td>1101057</td>\n",
       "      <td>1111057000</td>\n",
       "      <td>(POLYGON ((126.960673532739 37.58079784202972,...</td>\n",
       "    </tr>\n",
       "  </tbody>\n",
       "</table>\n",
       "</div>"
      ],
      "text/plain": [
       "   OBJECTID         adm_nm   adm_cd     adm_cd2  \\\n",
       "0         1  서울특별시 종로구 사직동  1101053  1111053000   \n",
       "1         2  서울특별시 종로구 삼청동  1101054  1111054000   \n",
       "2         3  서울특별시 종로구 부암동  1101055  1111055000   \n",
       "3         4  서울특별시 종로구 평창동  1101056  1111056000   \n",
       "4         5  서울특별시 종로구 무악동  1101057  1111057000   \n",
       "\n",
       "                                            geometry  \n",
       "0  (POLYGON ((126.9768888427482 37.57565077944879...  \n",
       "1  (POLYGON ((126.982689386493 37.5950655194224, ...  \n",
       "2  (POLYGON ((126.9758511377569 37.59656422224408...  \n",
       "3  (POLYGON ((126.9750746678809 37.63138628651299...  \n",
       "4  (POLYGON ((126.960673532739 37.58079784202972,...  "
      ]
     },
     "execution_count": 5,
     "metadata": {},
     "output_type": "execute_result"
    }
   ],
   "source": [
    "hgd.head()"
   ]
  },
  {
   "cell_type": "code",
   "execution_count": 6,
   "metadata": {
    "ExecuteTime": {
     "end_time": "2019-11-07T07:07:46.957170Z",
     "start_time": "2019-11-07T07:07:46.947372Z"
    }
   },
   "outputs": [],
   "source": [
    "hgd['adm_cd2'] = hgd['adm_cd2'].str[:-2]\n",
    "hgd['adm_cd2'] = hgd['adm_cd2'].astype('int')\n",
    "hgd = hgd.rename(columns={'adm_cd2': '행정동코드'})"
   ]
  },
  {
   "cell_type": "code",
   "execution_count": 9,
   "metadata": {
    "ExecuteTime": {
     "end_time": "2019-11-07T07:07:54.934287Z",
     "start_time": "2019-11-07T07:07:54.914472Z"
    }
   },
   "outputs": [],
   "source": [
    "hgd = pd.concat([\n",
    "    hgd,\n",
    "    hgd['adm_nm'].str.split(expand=True).rename(columns={0:'시', 1:'구', 2:'동'})\n",
    "], axis=1)"
   ]
  },
  {
   "cell_type": "code",
   "execution_count": 10,
   "metadata": {
    "ExecuteTime": {
     "end_time": "2019-11-07T07:07:56.175324Z",
     "start_time": "2019-11-07T07:07:56.166621Z"
    }
   },
   "outputs": [],
   "source": [
    "hgd = hgd[hgd['시'] == '서울특별시'][['시', '구', '동', '행정동코드', 'geometry']]"
   ]
  },
  {
   "cell_type": "code",
   "execution_count": 11,
   "metadata": {
    "ExecuteTime": {
     "end_time": "2019-11-07T07:07:57.227224Z",
     "start_time": "2019-11-07T07:07:57.212317Z"
    }
   },
   "outputs": [
    {
     "data": {
      "text/html": [
       "<div>\n",
       "<style scoped>\n",
       "    .dataframe tbody tr th:only-of-type {\n",
       "        vertical-align: middle;\n",
       "    }\n",
       "\n",
       "    .dataframe tbody tr th {\n",
       "        vertical-align: top;\n",
       "    }\n",
       "\n",
       "    .dataframe thead th {\n",
       "        text-align: right;\n",
       "    }\n",
       "</style>\n",
       "<table border=\"1\" class=\"dataframe\">\n",
       "  <thead>\n",
       "    <tr style=\"text-align: right;\">\n",
       "      <th></th>\n",
       "      <th>시</th>\n",
       "      <th>구</th>\n",
       "      <th>동</th>\n",
       "      <th>행정동코드</th>\n",
       "      <th>geometry</th>\n",
       "    </tr>\n",
       "  </thead>\n",
       "  <tbody>\n",
       "    <tr>\n",
       "      <th>0</th>\n",
       "      <td>서울특별시</td>\n",
       "      <td>종로구</td>\n",
       "      <td>사직동</td>\n",
       "      <td>11110530</td>\n",
       "      <td>(POLYGON ((126.9768888427482 37.57565077944879...</td>\n",
       "    </tr>\n",
       "    <tr>\n",
       "      <th>1</th>\n",
       "      <td>서울특별시</td>\n",
       "      <td>종로구</td>\n",
       "      <td>삼청동</td>\n",
       "      <td>11110540</td>\n",
       "      <td>(POLYGON ((126.982689386493 37.5950655194224, ...</td>\n",
       "    </tr>\n",
       "    <tr>\n",
       "      <th>2</th>\n",
       "      <td>서울특별시</td>\n",
       "      <td>종로구</td>\n",
       "      <td>부암동</td>\n",
       "      <td>11110550</td>\n",
       "      <td>(POLYGON ((126.9758511377569 37.59656422224408...</td>\n",
       "    </tr>\n",
       "    <tr>\n",
       "      <th>3</th>\n",
       "      <td>서울특별시</td>\n",
       "      <td>종로구</td>\n",
       "      <td>평창동</td>\n",
       "      <td>11110560</td>\n",
       "      <td>(POLYGON ((126.9750746678809 37.63138628651299...</td>\n",
       "    </tr>\n",
       "    <tr>\n",
       "      <th>4</th>\n",
       "      <td>서울특별시</td>\n",
       "      <td>종로구</td>\n",
       "      <td>무악동</td>\n",
       "      <td>11110570</td>\n",
       "      <td>(POLYGON ((126.960673532739 37.58079784202972,...</td>\n",
       "    </tr>\n",
       "  </tbody>\n",
       "</table>\n",
       "</div>"
      ],
      "text/plain": [
       "       시    구    동     행정동코드  \\\n",
       "0  서울특별시  종로구  사직동  11110530   \n",
       "1  서울특별시  종로구  삼청동  11110540   \n",
       "2  서울특별시  종로구  부암동  11110550   \n",
       "3  서울특별시  종로구  평창동  11110560   \n",
       "4  서울특별시  종로구  무악동  11110570   \n",
       "\n",
       "                                            geometry  \n",
       "0  (POLYGON ((126.9768888427482 37.57565077944879...  \n",
       "1  (POLYGON ((126.982689386493 37.5950655194224, ...  \n",
       "2  (POLYGON ((126.9758511377569 37.59656422224408...  \n",
       "3  (POLYGON ((126.9750746678809 37.63138628651299...  \n",
       "4  (POLYGON ((126.960673532739 37.58079784202972,...  "
      ]
     },
     "execution_count": 11,
     "metadata": {},
     "output_type": "execute_result"
    }
   ],
   "source": [
    "hgd.head()"
   ]
  },
  {
   "cell_type": "code",
   "execution_count": 12,
   "metadata": {
    "ExecuteTime": {
     "end_time": "2019-11-07T07:08:09.348769Z",
     "start_time": "2019-11-07T07:08:09.344613Z"
    }
   },
   "outputs": [
    {
     "data": {
      "text/plain": [
       "(424, 5)"
      ]
     },
     "execution_count": 12,
     "metadata": {},
     "output_type": "execute_result"
    }
   ],
   "source": [
    "hgd.shape"
   ]
  },
  {
   "cell_type": "code",
   "execution_count": 13,
   "metadata": {
    "ExecuteTime": {
     "end_time": "2019-11-07T07:08:10.721979Z",
     "start_time": "2019-11-07T07:08:10.476909Z"
    }
   },
   "outputs": [],
   "source": [
    "hgd.to_file('data/seoul-dong.geojson', driver='GeoJSON')"
   ]
  },
  {
   "cell_type": "markdown",
   "metadata": {},
   "source": [
    "---"
   ]
  },
  {
   "cell_type": "code",
   "execution_count": 14,
   "metadata": {
    "ExecuteTime": {
     "end_time": "2019-11-07T07:08:13.161191Z",
     "start_time": "2019-11-07T07:08:12.958263Z"
    }
   },
   "outputs": [],
   "source": [
    "import geopandas as gpd\n",
    "\n",
    "seoul = gpd.read_file('data/seoul-dong.geojson')"
   ]
  },
  {
   "cell_type": "code",
   "execution_count": 15,
   "metadata": {
    "ExecuteTime": {
     "end_time": "2019-11-07T07:08:13.751021Z",
     "start_time": "2019-11-07T07:08:13.735716Z"
    }
   },
   "outputs": [
    {
     "data": {
      "text/html": [
       "<div>\n",
       "<style scoped>\n",
       "    .dataframe tbody tr th:only-of-type {\n",
       "        vertical-align: middle;\n",
       "    }\n",
       "\n",
       "    .dataframe tbody tr th {\n",
       "        vertical-align: top;\n",
       "    }\n",
       "\n",
       "    .dataframe thead th {\n",
       "        text-align: right;\n",
       "    }\n",
       "</style>\n",
       "<table border=\"1\" class=\"dataframe\">\n",
       "  <thead>\n",
       "    <tr style=\"text-align: right;\">\n",
       "      <th></th>\n",
       "      <th>시</th>\n",
       "      <th>구</th>\n",
       "      <th>동</th>\n",
       "      <th>행정동코드</th>\n",
       "      <th>geometry</th>\n",
       "    </tr>\n",
       "  </thead>\n",
       "  <tbody>\n",
       "    <tr>\n",
       "      <th>0</th>\n",
       "      <td>서울특별시</td>\n",
       "      <td>종로구</td>\n",
       "      <td>사직동</td>\n",
       "      <td>11110530</td>\n",
       "      <td>(POLYGON ((126.9768888427482 37.57565077944879...</td>\n",
       "    </tr>\n",
       "    <tr>\n",
       "      <th>1</th>\n",
       "      <td>서울특별시</td>\n",
       "      <td>종로구</td>\n",
       "      <td>삼청동</td>\n",
       "      <td>11110540</td>\n",
       "      <td>(POLYGON ((126.982689386493 37.5950655194224, ...</td>\n",
       "    </tr>\n",
       "    <tr>\n",
       "      <th>2</th>\n",
       "      <td>서울특별시</td>\n",
       "      <td>종로구</td>\n",
       "      <td>부암동</td>\n",
       "      <td>11110550</td>\n",
       "      <td>(POLYGON ((126.9758511377569 37.59656422224408...</td>\n",
       "    </tr>\n",
       "    <tr>\n",
       "      <th>3</th>\n",
       "      <td>서울특별시</td>\n",
       "      <td>종로구</td>\n",
       "      <td>평창동</td>\n",
       "      <td>11110560</td>\n",
       "      <td>(POLYGON ((126.9750746678809 37.63138628651299...</td>\n",
       "    </tr>\n",
       "    <tr>\n",
       "      <th>4</th>\n",
       "      <td>서울특별시</td>\n",
       "      <td>종로구</td>\n",
       "      <td>무악동</td>\n",
       "      <td>11110570</td>\n",
       "      <td>(POLYGON ((126.960673532739 37.58079784202972,...</td>\n",
       "    </tr>\n",
       "  </tbody>\n",
       "</table>\n",
       "</div>"
      ],
      "text/plain": [
       "       시    구    동     행정동코드  \\\n",
       "0  서울특별시  종로구  사직동  11110530   \n",
       "1  서울특별시  종로구  삼청동  11110540   \n",
       "2  서울특별시  종로구  부암동  11110550   \n",
       "3  서울특별시  종로구  평창동  11110560   \n",
       "4  서울특별시  종로구  무악동  11110570   \n",
       "\n",
       "                                            geometry  \n",
       "0  (POLYGON ((126.9768888427482 37.57565077944879...  \n",
       "1  (POLYGON ((126.982689386493 37.5950655194224, ...  \n",
       "2  (POLYGON ((126.9758511377569 37.59656422224408...  \n",
       "3  (POLYGON ((126.9750746678809 37.63138628651299...  \n",
       "4  (POLYGON ((126.960673532739 37.58079784202972,...  "
      ]
     },
     "execution_count": 15,
     "metadata": {},
     "output_type": "execute_result"
    }
   ],
   "source": [
    "seoul.head()"
   ]
  },
  {
   "cell_type": "code",
   "execution_count": 16,
   "metadata": {
    "ExecuteTime": {
     "end_time": "2019-11-07T07:08:15.378273Z",
     "start_time": "2019-11-07T07:08:15.374433Z"
    }
   },
   "outputs": [
    {
     "data": {
      "text/plain": [
       "(424, 5)"
      ]
     },
     "execution_count": 16,
     "metadata": {},
     "output_type": "execute_result"
    }
   ],
   "source": [
    "seoul.shape"
   ]
  },
  {
   "cell_type": "code",
   "execution_count": 67,
   "metadata": {
    "ExecuteTime": {
     "end_time": "2019-11-07T07:56:34.140032Z",
     "start_time": "2019-11-07T07:56:34.128435Z"
    }
   },
   "outputs": [],
   "source": [
    "# 서울시 고령자현황 (동별) 통계\n",
    "# https://data.seoul.go.kr/dataList/datasetView.do?infId=10020&srvType=S&serviceKind=2\n",
    "\n",
    "pop = pd.read_csv('data/older_population_org.csv', delimiter='\\t')"
   ]
  },
  {
   "cell_type": "code",
   "execution_count": 68,
   "metadata": {
    "ExecuteTime": {
     "end_time": "2019-11-07T07:56:34.672364Z",
     "start_time": "2019-11-07T07:56:34.653053Z"
    }
   },
   "outputs": [
    {
     "data": {
      "text/html": [
       "<div>\n",
       "<style scoped>\n",
       "    .dataframe tbody tr th:only-of-type {\n",
       "        vertical-align: middle;\n",
       "    }\n",
       "\n",
       "    .dataframe tbody tr th {\n",
       "        vertical-align: top;\n",
       "    }\n",
       "\n",
       "    .dataframe thead th {\n",
       "        text-align: right;\n",
       "    }\n",
       "</style>\n",
       "<table border=\"1\" class=\"dataframe\">\n",
       "  <thead>\n",
       "    <tr style=\"text-align: right;\">\n",
       "      <th></th>\n",
       "      <th>기간</th>\n",
       "      <th>자치구</th>\n",
       "      <th>동</th>\n",
       "      <th>전체인구</th>\n",
       "      <th>전체인구.1</th>\n",
       "      <th>전체인구.2</th>\n",
       "      <th>65세이상 인구</th>\n",
       "      <th>65세이상 인구.1</th>\n",
       "      <th>65세이상 인구.2</th>\n",
       "      <th>65세이상 인구.3</th>\n",
       "      <th>65세이상 인구.4</th>\n",
       "      <th>65세이상 인구.5</th>\n",
       "      <th>65세이상 인구.6</th>\n",
       "      <th>65세이상 인구.7</th>\n",
       "      <th>65세이상 인구.8</th>\n",
       "    </tr>\n",
       "  </thead>\n",
       "  <tbody>\n",
       "    <tr>\n",
       "      <th>0</th>\n",
       "      <td>기간</td>\n",
       "      <td>자치구</td>\n",
       "      <td>동</td>\n",
       "      <td>전체인구</td>\n",
       "      <td>전체인구</td>\n",
       "      <td>전체인구</td>\n",
       "      <td>합계</td>\n",
       "      <td>합계</td>\n",
       "      <td>합계</td>\n",
       "      <td>내국인</td>\n",
       "      <td>내국인</td>\n",
       "      <td>내국인</td>\n",
       "      <td>외국인</td>\n",
       "      <td>외국인</td>\n",
       "      <td>외국인</td>\n",
       "    </tr>\n",
       "    <tr>\n",
       "      <th>1</th>\n",
       "      <td>기간</td>\n",
       "      <td>자치구</td>\n",
       "      <td>동</td>\n",
       "      <td>계</td>\n",
       "      <td>남자</td>\n",
       "      <td>여자</td>\n",
       "      <td>계</td>\n",
       "      <td>남자</td>\n",
       "      <td>여자</td>\n",
       "      <td>계</td>\n",
       "      <td>남자</td>\n",
       "      <td>여자</td>\n",
       "      <td>계</td>\n",
       "      <td>남자</td>\n",
       "      <td>여자</td>\n",
       "    </tr>\n",
       "    <tr>\n",
       "      <th>2</th>\n",
       "      <td>2019.3/4</td>\n",
       "      <td>합계</td>\n",
       "      <td>합계</td>\n",
       "      <td>10,025,927</td>\n",
       "      <td>4,887,068</td>\n",
       "      <td>5,138,859</td>\n",
       "      <td>1,468,146</td>\n",
       "      <td>648,586</td>\n",
       "      <td>819,560</td>\n",
       "      <td>1,461,460</td>\n",
       "      <td>645,055</td>\n",
       "      <td>816,405</td>\n",
       "      <td>6,686</td>\n",
       "      <td>3,531</td>\n",
       "      <td>3,155</td>\n",
       "    </tr>\n",
       "    <tr>\n",
       "      <th>3</th>\n",
       "      <td>2019.3/4</td>\n",
       "      <td>종로구</td>\n",
       "      <td>소계</td>\n",
       "      <td>162,860</td>\n",
       "      <td>78,523</td>\n",
       "      <td>84,337</td>\n",
       "      <td>27,394</td>\n",
       "      <td>12,156</td>\n",
       "      <td>15,238</td>\n",
       "      <td>27,181</td>\n",
       "      <td>12,034</td>\n",
       "      <td>15,147</td>\n",
       "      <td>213</td>\n",
       "      <td>122</td>\n",
       "      <td>91</td>\n",
       "    </tr>\n",
       "    <tr>\n",
       "      <th>4</th>\n",
       "      <td>2019.3/4</td>\n",
       "      <td>종로구</td>\n",
       "      <td>사직동</td>\n",
       "      <td>9,700</td>\n",
       "      <td>4,375</td>\n",
       "      <td>5,325</td>\n",
       "      <td>1,773</td>\n",
       "      <td>764</td>\n",
       "      <td>1,009</td>\n",
       "      <td>1,762</td>\n",
       "      <td>758</td>\n",
       "      <td>1,004</td>\n",
       "      <td>11</td>\n",
       "      <td>6</td>\n",
       "      <td>5</td>\n",
       "    </tr>\n",
       "  </tbody>\n",
       "</table>\n",
       "</div>"
      ],
      "text/plain": [
       "         기간  자치구    동        전체인구     전체인구.1     전체인구.2   65세이상 인구 65세이상 인구.1  \\\n",
       "0        기간  자치구    동        전체인구       전체인구       전체인구         합계         합계   \n",
       "1        기간  자치구    동           계         남자         여자          계         남자   \n",
       "2  2019.3/4   합계   합계  10,025,927  4,887,068  5,138,859  1,468,146    648,586   \n",
       "3  2019.3/4  종로구   소계     162,860     78,523     84,337     27,394     12,156   \n",
       "4  2019.3/4  종로구  사직동       9,700      4,375      5,325      1,773        764   \n",
       "\n",
       "  65세이상 인구.2 65세이상 인구.3 65세이상 인구.4 65세이상 인구.5 65세이상 인구.6 65세이상 인구.7 65세이상 인구.8  \n",
       "0         합계        내국인        내국인        내국인        외국인        외국인        외국인  \n",
       "1         여자          계         남자         여자          계         남자         여자  \n",
       "2    819,560  1,461,460    645,055    816,405      6,686      3,531      3,155  \n",
       "3     15,238     27,181     12,034     15,147        213        122         91  \n",
       "4      1,009      1,762        758      1,004         11          6          5  "
      ]
     },
     "execution_count": 68,
     "metadata": {},
     "output_type": "execute_result"
    }
   ],
   "source": [
    "pop.head()"
   ]
  },
  {
   "cell_type": "code",
   "execution_count": 69,
   "metadata": {
    "ExecuteTime": {
     "end_time": "2019-11-07T07:56:35.148006Z",
     "start_time": "2019-11-07T07:56:35.141112Z"
    }
   },
   "outputs": [],
   "source": [
    "pop = pop[['자치구', '동', '전체인구', '전체인구.1', '전체인구.2']].rename(columns={\n",
    "    '자치구': '구',\n",
    "    '전체인구': '인구',\n",
    "    '전체인구.1': '남자',\n",
    "    '전체인구.2': '여자'\n",
    "})\n",
    "\n",
    "pop = pop[~pop['동'].isin(['동', '합계', '소계'])]"
   ]
  },
  {
   "cell_type": "code",
   "execution_count": 70,
   "metadata": {
    "ExecuteTime": {
     "end_time": "2019-11-07T07:56:37.115754Z",
     "start_time": "2019-11-07T07:56:37.076996Z"
    }
   },
   "outputs": [],
   "source": [
    "# 이름 맞춰줘야함...\n",
    "seoul['동'] = seoul['동'].str.replace('·', '.')\n",
    "pop['동'] = pop['동'].str.replace('·', '.')"
   ]
  },
  {
   "cell_type": "code",
   "execution_count": 76,
   "metadata": {
    "ExecuteTime": {
     "end_time": "2019-11-07T07:58:18.056497Z",
     "start_time": "2019-11-07T07:58:18.045105Z"
    }
   },
   "outputs": [],
   "source": [
    "# 숫자 형으로 변환\n",
    "pop[['인구', '남자', '여자']] = pop[['인구', '남자', '여자']].applymap(lambda x : x.replace(',', ''))\n",
    "pop[['인구', '남자', '여자']] = pop[['인구', '남자', '여자']].astype('int')"
   ]
  },
  {
   "cell_type": "code",
   "execution_count": 77,
   "metadata": {
    "ExecuteTime": {
     "end_time": "2019-11-07T07:58:19.278178Z",
     "start_time": "2019-11-07T07:58:19.267169Z"
    }
   },
   "outputs": [
    {
     "data": {
      "text/html": [
       "<div>\n",
       "<style scoped>\n",
       "    .dataframe tbody tr th:only-of-type {\n",
       "        vertical-align: middle;\n",
       "    }\n",
       "\n",
       "    .dataframe tbody tr th {\n",
       "        vertical-align: top;\n",
       "    }\n",
       "\n",
       "    .dataframe thead th {\n",
       "        text-align: right;\n",
       "    }\n",
       "</style>\n",
       "<table border=\"1\" class=\"dataframe\">\n",
       "  <thead>\n",
       "    <tr style=\"text-align: right;\">\n",
       "      <th></th>\n",
       "      <th>구</th>\n",
       "      <th>동</th>\n",
       "      <th>인구</th>\n",
       "      <th>남자</th>\n",
       "      <th>여자</th>\n",
       "    </tr>\n",
       "  </thead>\n",
       "  <tbody>\n",
       "    <tr>\n",
       "      <th>4</th>\n",
       "      <td>종로구</td>\n",
       "      <td>사직동</td>\n",
       "      <td>9700</td>\n",
       "      <td>4375</td>\n",
       "      <td>5325</td>\n",
       "    </tr>\n",
       "    <tr>\n",
       "      <th>5</th>\n",
       "      <td>종로구</td>\n",
       "      <td>삼청동</td>\n",
       "      <td>3013</td>\n",
       "      <td>1443</td>\n",
       "      <td>1570</td>\n",
       "    </tr>\n",
       "    <tr>\n",
       "      <th>6</th>\n",
       "      <td>종로구</td>\n",
       "      <td>부암동</td>\n",
       "      <td>10525</td>\n",
       "      <td>5002</td>\n",
       "      <td>5523</td>\n",
       "    </tr>\n",
       "    <tr>\n",
       "      <th>7</th>\n",
       "      <td>종로구</td>\n",
       "      <td>평창동</td>\n",
       "      <td>18830</td>\n",
       "      <td>8817</td>\n",
       "      <td>10013</td>\n",
       "    </tr>\n",
       "    <tr>\n",
       "      <th>8</th>\n",
       "      <td>종로구</td>\n",
       "      <td>무악동</td>\n",
       "      <td>8745</td>\n",
       "      <td>4078</td>\n",
       "      <td>4667</td>\n",
       "    </tr>\n",
       "  </tbody>\n",
       "</table>\n",
       "</div>"
      ],
      "text/plain": [
       "     구    동     인구    남자     여자\n",
       "4  종로구  사직동   9700  4375   5325\n",
       "5  종로구  삼청동   3013  1443   1570\n",
       "6  종로구  부암동  10525  5002   5523\n",
       "7  종로구  평창동  18830  8817  10013\n",
       "8  종로구  무악동   8745  4078   4667"
      ]
     },
     "execution_count": 77,
     "metadata": {},
     "output_type": "execute_result"
    }
   ],
   "source": [
    "pop.head()"
   ]
  },
  {
   "cell_type": "code",
   "execution_count": 78,
   "metadata": {
    "ExecuteTime": {
     "end_time": "2019-11-07T07:58:23.244171Z",
     "start_time": "2019-11-07T07:58:23.236636Z"
    }
   },
   "outputs": [],
   "source": [
    "pop.to_csv('data/older_population.csv', index=False)"
   ]
  },
  {
   "cell_type": "code",
   "execution_count": 66,
   "metadata": {
    "ExecuteTime": {
     "end_time": "2019-11-07T07:50:57.551314Z",
     "start_time": "2019-11-07T07:50:57.298358Z"
    }
   },
   "outputs": [],
   "source": [
    "seoul.to_file('data/seoul-dong.geojson', driver='GeoJSON')"
   ]
  },
  {
   "cell_type": "code",
   "execution_count": 79,
   "metadata": {
    "ExecuteTime": {
     "end_time": "2019-11-07T07:58:36.510466Z",
     "start_time": "2019-11-07T07:58:36.482248Z"
    }
   },
   "outputs": [
    {
     "data": {
      "text/html": [
       "<div>\n",
       "<style scoped>\n",
       "    .dataframe tbody tr th:only-of-type {\n",
       "        vertical-align: middle;\n",
       "    }\n",
       "\n",
       "    .dataframe tbody tr th {\n",
       "        vertical-align: top;\n",
       "    }\n",
       "\n",
       "    .dataframe thead th {\n",
       "        text-align: right;\n",
       "    }\n",
       "</style>\n",
       "<table border=\"1\" class=\"dataframe\">\n",
       "  <thead>\n",
       "    <tr style=\"text-align: right;\">\n",
       "      <th></th>\n",
       "      <th>시</th>\n",
       "      <th>구</th>\n",
       "      <th>동</th>\n",
       "      <th>행정동코드</th>\n",
       "      <th>geometry</th>\n",
       "      <th>인구</th>\n",
       "      <th>남자</th>\n",
       "      <th>여자</th>\n",
       "    </tr>\n",
       "  </thead>\n",
       "  <tbody>\n",
       "    <tr>\n",
       "      <th>0</th>\n",
       "      <td>서울특별시</td>\n",
       "      <td>종로구</td>\n",
       "      <td>사직동</td>\n",
       "      <td>11110530</td>\n",
       "      <td>(POLYGON ((126.9768888427482 37.57565077944879...</td>\n",
       "      <td>9700</td>\n",
       "      <td>4375</td>\n",
       "      <td>5325</td>\n",
       "    </tr>\n",
       "    <tr>\n",
       "      <th>1</th>\n",
       "      <td>서울특별시</td>\n",
       "      <td>종로구</td>\n",
       "      <td>삼청동</td>\n",
       "      <td>11110540</td>\n",
       "      <td>(POLYGON ((126.982689386493 37.5950655194224, ...</td>\n",
       "      <td>3013</td>\n",
       "      <td>1443</td>\n",
       "      <td>1570</td>\n",
       "    </tr>\n",
       "    <tr>\n",
       "      <th>2</th>\n",
       "      <td>서울특별시</td>\n",
       "      <td>종로구</td>\n",
       "      <td>부암동</td>\n",
       "      <td>11110550</td>\n",
       "      <td>(POLYGON ((126.9758511377569 37.59656422224408...</td>\n",
       "      <td>10525</td>\n",
       "      <td>5002</td>\n",
       "      <td>5523</td>\n",
       "    </tr>\n",
       "    <tr>\n",
       "      <th>3</th>\n",
       "      <td>서울특별시</td>\n",
       "      <td>종로구</td>\n",
       "      <td>평창동</td>\n",
       "      <td>11110560</td>\n",
       "      <td>(POLYGON ((126.9750746678809 37.63138628651299...</td>\n",
       "      <td>18830</td>\n",
       "      <td>8817</td>\n",
       "      <td>10013</td>\n",
       "    </tr>\n",
       "    <tr>\n",
       "      <th>4</th>\n",
       "      <td>서울특별시</td>\n",
       "      <td>종로구</td>\n",
       "      <td>무악동</td>\n",
       "      <td>11110570</td>\n",
       "      <td>(POLYGON ((126.960673532739 37.58079784202972,...</td>\n",
       "      <td>8745</td>\n",
       "      <td>4078</td>\n",
       "      <td>4667</td>\n",
       "    </tr>\n",
       "  </tbody>\n",
       "</table>\n",
       "</div>"
      ],
      "text/plain": [
       "       시    구    동     행정동코드  \\\n",
       "0  서울특별시  종로구  사직동  11110530   \n",
       "1  서울특별시  종로구  삼청동  11110540   \n",
       "2  서울특별시  종로구  부암동  11110550   \n",
       "3  서울특별시  종로구  평창동  11110560   \n",
       "4  서울특별시  종로구  무악동  11110570   \n",
       "\n",
       "                                            geometry     인구    남자     여자  \n",
       "0  (POLYGON ((126.9768888427482 37.57565077944879...   9700  4375   5325  \n",
       "1  (POLYGON ((126.982689386493 37.5950655194224, ...   3013  1443   1570  \n",
       "2  (POLYGON ((126.9758511377569 37.59656422224408...  10525  5002   5523  \n",
       "3  (POLYGON ((126.9750746678809 37.63138628651299...  18830  8817  10013  \n",
       "4  (POLYGON ((126.960673532739 37.58079784202972,...   8745  4078   4667  "
      ]
     },
     "execution_count": 79,
     "metadata": {},
     "output_type": "execute_result"
    }
   ],
   "source": [
    "df = pd.merge(seoul[['시', '구', '동', '행정동코드', 'geometry']], \n",
    "              pop,\n",
    "              how='left')\n",
    "df.head()"
   ]
  },
  {
   "cell_type": "code",
   "execution_count": 80,
   "metadata": {
    "ExecuteTime": {
     "end_time": "2019-11-07T07:58:37.729455Z",
     "start_time": "2019-11-07T07:58:37.725516Z"
    }
   },
   "outputs": [
    {
     "data": {
      "text/plain": [
       "(424, 8)"
      ]
     },
     "execution_count": 80,
     "metadata": {},
     "output_type": "execute_result"
    }
   ],
   "source": [
    "df.shape"
   ]
  },
  {
   "cell_type": "code",
   "execution_count": 81,
   "metadata": {
    "ExecuteTime": {
     "end_time": "2019-11-07T07:58:38.316811Z",
     "start_time": "2019-11-07T07:58:38.049531Z"
    }
   },
   "outputs": [],
   "source": [
    "df.to_file('data/older_seoul.geojson', driver='GeoJSON')"
   ]
  },
  {
   "cell_type": "markdown",
   "metadata": {},
   "source": [
    "---"
   ]
  },
  {
   "cell_type": "code",
   "execution_count": 82,
   "metadata": {
    "ExecuteTime": {
     "end_time": "2019-11-07T08:37:12.371608Z",
     "start_time": "2019-11-07T08:37:12.234621Z"
    }
   },
   "outputs": [],
   "source": [
    "df = gpd.read_file('data/culture_facility_seoul.csv')"
   ]
  },
  {
   "cell_type": "code",
   "execution_count": 83,
   "metadata": {
    "ExecuteTime": {
     "end_time": "2019-11-07T08:37:14.166264Z",
     "start_time": "2019-11-07T08:37:14.140290Z"
    }
   },
   "outputs": [
    {
     "data": {
      "text/html": [
       "<div>\n",
       "<style scoped>\n",
       "    .dataframe tbody tr th:only-of-type {\n",
       "        vertical-align: middle;\n",
       "    }\n",
       "\n",
       "    .dataframe tbody tr th {\n",
       "        vertical-align: top;\n",
       "    }\n",
       "\n",
       "    .dataframe thead th {\n",
       "        text-align: right;\n",
       "    }\n",
       "</style>\n",
       "<table border=\"1\" class=\"dataframe\">\n",
       "  <thead>\n",
       "    <tr style=\"text-align: right;\">\n",
       "      <th></th>\n",
       "      <th>번호</th>\n",
       "      <th>주제분류</th>\n",
       "      <th>문화시설명</th>\n",
       "      <th>주소</th>\n",
       "      <th>X좌표</th>\n",
       "      <th>Y좌표</th>\n",
       "      <th>전화번호</th>\n",
       "      <th>팩스번호</th>\n",
       "      <th>홈페이지</th>\n",
       "      <th>관람시간</th>\n",
       "      <th>...</th>\n",
       "      <th>시설소개</th>\n",
       "      <th>무료구분</th>\n",
       "      <th>지하철</th>\n",
       "      <th>버스정거장</th>\n",
       "      <th>YELLOW</th>\n",
       "      <th>GREEN</th>\n",
       "      <th>BLUE</th>\n",
       "      <th>RED</th>\n",
       "      <th>공항버스</th>\n",
       "      <th>geometry</th>\n",
       "    </tr>\n",
       "  </thead>\n",
       "  <tbody>\n",
       "    <tr>\n",
       "      <th>0</th>\n",
       "      <td>1</td>\n",
       "      <td>기타</td>\n",
       "      <td>간송미술문화재단</td>\n",
       "      <td>서울특별시 중구 을지로 281</td>\n",
       "      <td>37.56741127787706</td>\n",
       "      <td>127.0108890181753</td>\n",
       "      <td>010-6276-8814</td>\n",
       "      <td></td>\n",
       "      <td>ddp.or.kr</td>\n",
       "      <td></td>\n",
       "      <td>...</td>\n",
       "      <td>&lt;div class=&amp;quot;brd_viewer program_dtview tab...</td>\n",
       "      <td></td>\n",
       "      <td>동대문역사문화공원역 1번 출구(2 4 5호선) DDP건물 살림터 3층</td>\n",
       "      <td></td>\n",
       "      <td></td>\n",
       "      <td></td>\n",
       "      <td></td>\n",
       "      <td></td>\n",
       "      <td></td>\n",
       "      <td>None</td>\n",
       "    </tr>\n",
       "    <tr>\n",
       "      <th>1</th>\n",
       "      <td>404</td>\n",
       "      <td>도서관</td>\n",
       "      <td>강동구립강일도서관</td>\n",
       "      <td>서울  강동구 강일동 678</td>\n",
       "      <td>37.5649594</td>\n",
       "      <td>127.1716731</td>\n",
       "      <td>02-427-4004</td>\n",
       "      <td></td>\n",
       "      <td>http://www.gdlibrary.or.kr/gilib/main.do</td>\n",
       "      <td></td>\n",
       "      <td>...</td>\n",
       "      <td></td>\n",
       "      <td></td>\n",
       "      <td></td>\n",
       "      <td></td>\n",
       "      <td></td>\n",
       "      <td></td>\n",
       "      <td></td>\n",
       "      <td></td>\n",
       "      <td></td>\n",
       "      <td>None</td>\n",
       "    </tr>\n",
       "    <tr>\n",
       "      <th>2</th>\n",
       "      <td>199</td>\n",
       "      <td>도서관</td>\n",
       "      <td>강남구립못골한옥어린이도서관</td>\n",
       "      <td>서울특별시 강남구 자곡로7길 3</td>\n",
       "      <td>37.4733049813</td>\n",
       "      <td>127.099727635</td>\n",
       "      <td>02-2226-5930</td>\n",
       "      <td></td>\n",
       "      <td>http://hchildlib.gangnam.go.kr/</td>\n",
       "      <td></td>\n",
       "      <td>...</td>\n",
       "      <td>&lt;div&gt;&lt;br /&gt;\\n \\n &lt;/div&gt;&lt;div&gt;순수&amp;nbsp;한옥도서관&lt;/div...</td>\n",
       "      <td></td>\n",
       "      <td>수서역</td>\n",
       "      <td>못골마을 LH강남아이파크 정류장</td>\n",
       "      <td></td>\n",
       "      <td></td>\n",
       "      <td></td>\n",
       "      <td></td>\n",
       "      <td></td>\n",
       "      <td>None</td>\n",
       "    </tr>\n",
       "    <tr>\n",
       "      <th>3</th>\n",
       "      <td>5</td>\n",
       "      <td>기타</td>\n",
       "      <td>조계사</td>\n",
       "      <td>서울특별시 종로구 우정국로 55</td>\n",
       "      <td>37.573893952230144</td>\n",
       "      <td>126.9818832690818</td>\n",
       "      <td>02-768-7543</td>\n",
       "      <td></td>\n",
       "      <td>http://www.jogyesa.kr/</td>\n",
       "      <td></td>\n",
       "      <td>...</td>\n",
       "      <td>서울시 종로구에 소재한 대한불교조계종 총본산 조계사입니다.</td>\n",
       "      <td></td>\n",
       "      <td>1호선 종각역 2번출구 3호선 안국역 6번 출구 광화문역 2번 출구</td>\n",
       "      <td>조계사 정거장 안국동 정거장</td>\n",
       "      <td></td>\n",
       "      <td>안국동 정거장 : 1020번</td>\n",
       "      <td>조계사 정거장 : 109번 151번 162번 172번 606번   안국동 정거장 :...</td>\n",
       "      <td>인사동 정거장 : 6005번</td>\n",
       "      <td>6005번</td>\n",
       "      <td>None</td>\n",
       "    </tr>\n",
       "    <tr>\n",
       "      <th>4</th>\n",
       "      <td>200</td>\n",
       "      <td>도서관</td>\n",
       "      <td>강남구립열린도서관</td>\n",
       "      <td>서울특별시 강남구 학동로 343 포바강남타워 B2</td>\n",
       "      <td>37.5174497661</td>\n",
       "      <td>127.0406357728</td>\n",
       "      <td>02-6004-3970</td>\n",
       "      <td></td>\n",
       "      <td>http://yllib.gangnam.go.kr/</td>\n",
       "      <td></td>\n",
       "      <td>...</td>\n",
       "      <td></td>\n",
       "      <td></td>\n",
       "      <td></td>\n",
       "      <td></td>\n",
       "      <td></td>\n",
       "      <td></td>\n",
       "      <td></td>\n",
       "      <td></td>\n",
       "      <td></td>\n",
       "      <td>None</td>\n",
       "    </tr>\n",
       "  </tbody>\n",
       "</table>\n",
       "<p>5 rows × 26 columns</p>\n",
       "</div>"
      ],
      "text/plain": [
       "    번호 주제분류           문화시설명                           주소                 X좌표  \\\n",
       "0    1   기타        간송미술문화재단             서울특별시 중구 을지로 281   37.56741127787706   \n",
       "1  404  도서관       강동구립강일도서관              서울  강동구 강일동 678          37.5649594   \n",
       "2  199  도서관  강남구립못골한옥어린이도서관            서울특별시 강남구 자곡로7길 3       37.4733049813   \n",
       "3    5   기타             조계사            서울특별시 종로구 우정국로 55  37.573893952230144   \n",
       "4  200  도서관       강남구립열린도서관  서울특별시 강남구 학동로 343 포바강남타워 B2       37.5174497661   \n",
       "\n",
       "                 Y좌표           전화번호 팩스번호  \\\n",
       "0  127.0108890181753  010-6276-8814        \n",
       "1        127.1716731    02-427-4004        \n",
       "2      127.099727635   02-2226-5930        \n",
       "3  126.9818832690818    02-768-7543        \n",
       "4     127.0406357728   02-6004-3970        \n",
       "\n",
       "                                       홈페이지 관람시간  ...  \\\n",
       "0                                 ddp.or.kr       ...   \n",
       "1  http://www.gdlibrary.or.kr/gilib/main.do       ...   \n",
       "2           http://hchildlib.gangnam.go.kr/       ...   \n",
       "3                    http://www.jogyesa.kr/       ...   \n",
       "4               http://yllib.gangnam.go.kr/       ...   \n",
       "\n",
       "                                                시설소개 무료구분  \\\n",
       "0  <div class=&quot;brd_viewer program_dtview tab...        \n",
       "1                                                           \n",
       "2  <div><br />\\n \\n </div><div>순수&nbsp;한옥도서관</div...        \n",
       "3                   서울시 종로구에 소재한 대한불교조계종 총본산 조계사입니다.        \n",
       "4                                                           \n",
       "\n",
       "                                      지하철              버스정거장 YELLOW  \\\n",
       "0  동대문역사문화공원역 1번 출구(2 4 5호선) DDP건물 살림터 3층                             \n",
       "1                                                                     \n",
       "2                                     수서역  못골마을 LH강남아이파크 정류장          \n",
       "3   1호선 종각역 2번출구 3호선 안국역 6번 출구 광화문역 2번 출구    조계사 정거장 안국동 정거장          \n",
       "4                                                                     \n",
       "\n",
       "             GREEN                                               BLUE  \\\n",
       "0                                                                       \n",
       "1                                                                       \n",
       "2                                                                       \n",
       "3  안국동 정거장 : 1020번  조계사 정거장 : 109번 151번 162번 172번 606번   안국동 정거장 :...   \n",
       "4                                                                       \n",
       "\n",
       "               RED   공항버스 geometry  \n",
       "0                             None  \n",
       "1                             None  \n",
       "2                             None  \n",
       "3  인사동 정거장 : 6005번  6005번     None  \n",
       "4                             None  \n",
       "\n",
       "[5 rows x 26 columns]"
      ]
     },
     "execution_count": 83,
     "metadata": {},
     "output_type": "execute_result"
    }
   ],
   "source": [
    "df.head()"
   ]
  },
  {
   "cell_type": "code",
   "execution_count": 10,
   "metadata": {
    "ExecuteTime": {
     "end_time": "2019-11-08T06:39:40.363694Z",
     "start_time": "2019-11-08T06:39:40.326381Z"
    }
   },
   "outputs": [
    {
     "data": {
      "text/html": [
       "<div>\n",
       "<style scoped>\n",
       "    .dataframe tbody tr th:only-of-type {\n",
       "        vertical-align: middle;\n",
       "    }\n",
       "\n",
       "    .dataframe tbody tr th {\n",
       "        vertical-align: top;\n",
       "    }\n",
       "\n",
       "    .dataframe thead th {\n",
       "        text-align: right;\n",
       "    }\n",
       "</style>\n",
       "<table border=\"1\" class=\"dataframe\">\n",
       "  <thead>\n",
       "    <tr style=\"text-align: right;\">\n",
       "      <th></th>\n",
       "      <th>고유번호</th>\n",
       "      <th>구명</th>\n",
       "      <th>법정동명</th>\n",
       "      <th>산지여부</th>\n",
       "      <th>주지번</th>\n",
       "      <th>부지번</th>\n",
       "      <th>새주소명</th>\n",
       "      <th>생성일</th>\n",
       "      <th>위도</th>\n",
       "      <th>경도</th>\n",
       "    </tr>\n",
       "  </thead>\n",
       "  <tbody>\n",
       "    <tr>\n",
       "      <th>0</th>\n",
       "      <td>92</td>\n",
       "      <td>송파구</td>\n",
       "      <td>마천동</td>\n",
       "      <td>2</td>\n",
       "      <td>1</td>\n",
       "      <td>10</td>\n",
       "      <td></td>\n",
       "      <td>NaN</td>\n",
       "      <td>37.501401</td>\n",
       "      <td>127.158647</td>\n",
       "    </tr>\n",
       "    <tr>\n",
       "      <th>1</th>\n",
       "      <td>93</td>\n",
       "      <td>노원구</td>\n",
       "      <td>하계동</td>\n",
       "      <td>1</td>\n",
       "      <td>288</td>\n",
       "      <td>2</td>\n",
       "      <td></td>\n",
       "      <td>NaN</td>\n",
       "      <td>37.644937</td>\n",
       "      <td>127.073728</td>\n",
       "    </tr>\n",
       "    <tr>\n",
       "      <th>2</th>\n",
       "      <td>94</td>\n",
       "      <td>노원구</td>\n",
       "      <td>하계동</td>\n",
       "      <td>1</td>\n",
       "      <td>255</td>\n",
       "      <td></td>\n",
       "      <td></td>\n",
       "      <td>NaN</td>\n",
       "      <td>37.640335</td>\n",
       "      <td>127.077637</td>\n",
       "    </tr>\n",
       "    <tr>\n",
       "      <th>3</th>\n",
       "      <td>96</td>\n",
       "      <td>강북구</td>\n",
       "      <td>수유동</td>\n",
       "      <td>1</td>\n",
       "      <td>252</td>\n",
       "      <td>19</td>\n",
       "      <td></td>\n",
       "      <td>NaN</td>\n",
       "      <td>37.645723</td>\n",
       "      <td>127.020449</td>\n",
       "    </tr>\n",
       "    <tr>\n",
       "      <th>4</th>\n",
       "      <td>98</td>\n",
       "      <td>도봉구</td>\n",
       "      <td>방학동</td>\n",
       "      <td>1</td>\n",
       "      <td>270</td>\n",
       "      <td>1</td>\n",
       "      <td></td>\n",
       "      <td>NaN</td>\n",
       "      <td>37.659783</td>\n",
       "      <td>127.031187</td>\n",
       "    </tr>\n",
       "  </tbody>\n",
       "</table>\n",
       "</div>"
      ],
      "text/plain": [
       "   고유번호   구명 법정동명 산지여부  주지번 부지번 새주소명  생성일         위도          경도\n",
       "0    92  송파구  마천동    2    1  10       NaN  37.501401  127.158647\n",
       "1    93  노원구  하계동    1  288   2       NaN  37.644937  127.073728\n",
       "2    94  노원구  하계동    1  255           NaN  37.640335  127.077637\n",
       "3    96  강북구  수유동    1  252  19       NaN  37.645723  127.020449\n",
       "4    98  도봉구  방학동    1  270   1       NaN  37.659783  127.031187"
      ]
     },
     "execution_count": 10,
     "metadata": {},
     "output_type": "execute_result"
    }
   ],
   "source": [
    "import pandas as pd\n",
    "\n",
    "toilet = pd.read_csv('data/toilet_seoul.csv')\n",
    "toilet.head()"
   ]
  },
  {
   "cell_type": "code",
   "execution_count": 11,
   "metadata": {
    "ExecuteTime": {
     "end_time": "2019-11-08T06:39:44.864497Z",
     "start_time": "2019-11-08T06:39:44.859357Z"
    }
   },
   "outputs": [
    {
     "data": {
      "text/plain": [
       "array([156, 148, 139, ..., 278, 191, 469])"
      ]
     },
     "execution_count": 11,
     "metadata": {},
     "output_type": "execute_result"
    }
   ],
   "source": [
    "import numpy as np\n",
    "np.random.randint(0, 500, size=len(toilet))"
   ]
  },
  {
   "cell_type": "code",
   "execution_count": 14,
   "metadata": {
    "ExecuteTime": {
     "end_time": "2019-11-08T06:39:56.719086Z",
     "start_time": "2019-11-08T06:39:56.712862Z"
    }
   },
   "outputs": [],
   "source": [
    "toilet['이용량'] = np.random.randint(0, 500, size=len(toilet))\n",
    "toilet = toilet[['구명', '법정동명', '이용량', '위도', '경도']]"
   ]
  },
  {
   "cell_type": "code",
   "execution_count": 15,
   "metadata": {
    "ExecuteTime": {
     "end_time": "2019-11-08T06:39:57.407618Z",
     "start_time": "2019-11-08T06:39:57.397126Z"
    }
   },
   "outputs": [
    {
     "data": {
      "text/html": [
       "<div>\n",
       "<style scoped>\n",
       "    .dataframe tbody tr th:only-of-type {\n",
       "        vertical-align: middle;\n",
       "    }\n",
       "\n",
       "    .dataframe tbody tr th {\n",
       "        vertical-align: top;\n",
       "    }\n",
       "\n",
       "    .dataframe thead th {\n",
       "        text-align: right;\n",
       "    }\n",
       "</style>\n",
       "<table border=\"1\" class=\"dataframe\">\n",
       "  <thead>\n",
       "    <tr style=\"text-align: right;\">\n",
       "      <th></th>\n",
       "      <th>구명</th>\n",
       "      <th>법정동명</th>\n",
       "      <th>이용량</th>\n",
       "      <th>위도</th>\n",
       "      <th>경도</th>\n",
       "    </tr>\n",
       "  </thead>\n",
       "  <tbody>\n",
       "    <tr>\n",
       "      <th>0</th>\n",
       "      <td>송파구</td>\n",
       "      <td>마천동</td>\n",
       "      <td>248</td>\n",
       "      <td>37.501401</td>\n",
       "      <td>127.158647</td>\n",
       "    </tr>\n",
       "    <tr>\n",
       "      <th>1</th>\n",
       "      <td>노원구</td>\n",
       "      <td>하계동</td>\n",
       "      <td>252</td>\n",
       "      <td>37.644937</td>\n",
       "      <td>127.073728</td>\n",
       "    </tr>\n",
       "    <tr>\n",
       "      <th>2</th>\n",
       "      <td>노원구</td>\n",
       "      <td>하계동</td>\n",
       "      <td>192</td>\n",
       "      <td>37.640335</td>\n",
       "      <td>127.077637</td>\n",
       "    </tr>\n",
       "  </tbody>\n",
       "</table>\n",
       "</div>"
      ],
      "text/plain": [
       "    구명 법정동명  이용량         위도          경도\n",
       "0  송파구  마천동  248  37.501401  127.158647\n",
       "1  노원구  하계동  252  37.644937  127.073728\n",
       "2  노원구  하계동  192  37.640335  127.077637"
      ]
     },
     "execution_count": 15,
     "metadata": {},
     "output_type": "execute_result"
    }
   ],
   "source": [
    "toilet.head(3)"
   ]
  },
  {
   "cell_type": "code",
   "execution_count": 17,
   "metadata": {
    "ExecuteTime": {
     "end_time": "2019-11-08T06:41:08.368089Z",
     "start_time": "2019-11-08T06:41:05.623615Z"
    }
   },
   "outputs": [
    {
     "data": {
      "text/plain": [
       "{'type': 'file',\n",
       " 'filename': 'toilet_seoul_sample.geojson',\n",
       " 'feature_count': 5046}"
      ]
     },
     "execution_count": 17,
     "metadata": {},
     "output_type": "execute_result"
    }
   ],
   "source": [
    "from mapboxgl.utils import df_to_geojson\n",
    "\n",
    "df_to_geojson(toilet, filename='data/toilet_seoul_sample.geojson',\n",
    "              properties=['구명', '법정동명', '이용량'],\n",
    "              lat='위도', lon='경도', precision=6,)"
   ]
  },
  {
   "cell_type": "markdown",
   "metadata": {},
   "source": [
    "---"
   ]
  },
  {
   "cell_type": "code",
   "execution_count": 12,
   "metadata": {
    "ExecuteTime": {
     "end_time": "2019-11-08T13:02:15.089237Z",
     "start_time": "2019-11-08T13:02:14.501679Z"
    }
   },
   "outputs": [
    {
     "name": "stderr",
     "output_type": "stream",
     "text": [
      "/Users/heumsi/anaconda3/envs/py36/lib/python3.6/site-packages/IPython/core/interactiveshell.py:3049: DtypeWarning: Columns (19) have mixed types. Specify dtype option on import or set low_memory=False.\n",
      "  interactivity=interactivity, compiler=compiler, result=result)\n"
     ]
    },
    {
     "data": {
      "text/html": [
       "<div>\n",
       "<style scoped>\n",
       "    .dataframe tbody tr th:only-of-type {\n",
       "        vertical-align: middle;\n",
       "    }\n",
       "\n",
       "    .dataframe tbody tr th {\n",
       "        vertical-align: top;\n",
       "    }\n",
       "\n",
       "    .dataframe thead th {\n",
       "        text-align: right;\n",
       "    }\n",
       "</style>\n",
       "<table border=\"1\" class=\"dataframe\">\n",
       "  <thead>\n",
       "    <tr style=\"text-align: right;\">\n",
       "      <th></th>\n",
       "      <th>순서</th>\n",
       "      <th>시군구코드</th>\n",
       "      <th>도로구간일련번호</th>\n",
       "      <th>도로명</th>\n",
       "      <th>도로명코드</th>\n",
       "      <th>영문도로명</th>\n",
       "      <th>고시일자</th>\n",
       "      <th>도로명심의일자</th>\n",
       "      <th>도로제정권자</th>\n",
       "      <th>광역도로구분코드</th>\n",
       "      <th>...</th>\n",
       "      <th>이동사유코드</th>\n",
       "      <th>이동사유</th>\n",
       "      <th>이동일자</th>\n",
       "      <th>분기시군구코드</th>\n",
       "      <th>분기도로구간일련번호</th>\n",
       "      <th>입력방법</th>\n",
       "      <th>교차로수</th>\n",
       "      <th>발급여부</th>\n",
       "      <th>위도</th>\n",
       "      <th>경도</th>\n",
       "    </tr>\n",
       "  </thead>\n",
       "  <tbody>\n",
       "    <tr>\n",
       "      <th>0</th>\n",
       "      <td>1</td>\n",
       "      <td>11110</td>\n",
       "      <td>3226</td>\n",
       "      <td>새문안로</td>\n",
       "      <td>3005004</td>\n",
       "      <td>Saemunan-ro</td>\n",
       "      <td>20100422</td>\n",
       "      <td>20100412</td>\n",
       "      <td>시도</td>\n",
       "      <td>2</td>\n",
       "      <td>...</td>\n",
       "      <td>71</td>\n",
       "      <td>도로명기본도위치정확도개선사업에 따른 기재정정</td>\n",
       "      <td></td>\n",
       "      <td></td>\n",
       "      <td>0</td>\n",
       "      <td>1</td>\n",
       "      <td>0</td>\n",
       "      <td></td>\n",
       "      <td>37.570884</td>\n",
       "      <td>126.973331</td>\n",
       "    </tr>\n",
       "    <tr>\n",
       "      <th>1</th>\n",
       "      <td>2</td>\n",
       "      <td>11110</td>\n",
       "      <td>3227</td>\n",
       "      <td>옥인6가길</td>\n",
       "      <td>4100210</td>\n",
       "      <td>Ogin 6ga-gil</td>\n",
       "      <td>20100702</td>\n",
       "      <td>20100623</td>\n",
       "      <td>시군구</td>\n",
       "      <td>3</td>\n",
       "      <td>...</td>\n",
       "      <td>71</td>\n",
       "      <td>도로명기본도위치정확도개선사업에 따른 기재정정</td>\n",
       "      <td></td>\n",
       "      <td></td>\n",
       "      <td>0</td>\n",
       "      <td>1</td>\n",
       "      <td>0</td>\n",
       "      <td></td>\n",
       "      <td>37.581420</td>\n",
       "      <td>126.965176</td>\n",
       "    </tr>\n",
       "    <tr>\n",
       "      <th>2</th>\n",
       "      <td>3</td>\n",
       "      <td>11110</td>\n",
       "      <td>3229</td>\n",
       "      <td>자하문로</td>\n",
       "      <td>3100012</td>\n",
       "      <td>Jahamun-ro</td>\n",
       "      <td>20100702</td>\n",
       "      <td>20100623</td>\n",
       "      <td>시군구</td>\n",
       "      <td>3</td>\n",
       "      <td>...</td>\n",
       "      <td>71</td>\n",
       "      <td>도로명기본도위치정확도개선사업에 따른 기재정정</td>\n",
       "      <td></td>\n",
       "      <td></td>\n",
       "      <td>0</td>\n",
       "      <td>1</td>\n",
       "      <td>0</td>\n",
       "      <td></td>\n",
       "      <td>37.586980</td>\n",
       "      <td>126.969095</td>\n",
       "    </tr>\n",
       "    <tr>\n",
       "      <th>3</th>\n",
       "      <td>4</td>\n",
       "      <td>11110</td>\n",
       "      <td>1818</td>\n",
       "      <td>삼일대로17길</td>\n",
       "      <td>4100140</td>\n",
       "      <td>Samil-daero 17-gil</td>\n",
       "      <td>20100702</td>\n",
       "      <td>20100623</td>\n",
       "      <td>시군구</td>\n",
       "      <td>3</td>\n",
       "      <td>...</td>\n",
       "      <td>71</td>\n",
       "      <td>도로명기본도위치정확도개선사업에 따른 기재정정</td>\n",
       "      <td></td>\n",
       "      <td></td>\n",
       "      <td>0</td>\n",
       "      <td>1</td>\n",
       "      <td>0</td>\n",
       "      <td></td>\n",
       "      <td>37.569189</td>\n",
       "      <td>126.986074</td>\n",
       "    </tr>\n",
       "    <tr>\n",
       "      <th>4</th>\n",
       "      <td>5</td>\n",
       "      <td>11110</td>\n",
       "      <td>2860</td>\n",
       "      <td>사직로1길</td>\n",
       "      <td>4100126</td>\n",
       "      <td>Sajik-ro 1-gil</td>\n",
       "      <td>20100702</td>\n",
       "      <td>20100623</td>\n",
       "      <td>시군구</td>\n",
       "      <td>3</td>\n",
       "      <td>...</td>\n",
       "      <td>71</td>\n",
       "      <td>도로명기본도위치정확도개선사업에 따른 기재정정</td>\n",
       "      <td></td>\n",
       "      <td></td>\n",
       "      <td>0</td>\n",
       "      <td>1</td>\n",
       "      <td>0</td>\n",
       "      <td></td>\n",
       "      <td>37.573648</td>\n",
       "      <td>126.962948</td>\n",
       "    </tr>\n",
       "  </tbody>\n",
       "</table>\n",
       "<p>5 rows × 30 columns</p>\n",
       "</div>"
      ],
      "text/plain": [
       "   순서  시군구코드  도로구간일련번호      도로명    도로명코드               영문도로명      고시일자  \\\n",
       "0   1  11110      3226     새문안로  3005004         Saemunan-ro  20100422   \n",
       "1   2  11110      3227    옥인6가길  4100210        Ogin 6ga-gil  20100702   \n",
       "2   3  11110      3229     자하문로  3100012          Jahamun-ro  20100702   \n",
       "3   4  11110      1818  삼일대로17길  4100140  Samil-daero 17-gil  20100702   \n",
       "4   5  11110      2860    사직로1길  4100126      Sajik-ro 1-gil  20100702   \n",
       "\n",
       "    도로명심의일자 도로제정권자  광역도로구분코드  ...  이동사유코드                      이동사유 이동일자  \\\n",
       "0  20100412     시도         2  ...      71  도로명기본도위치정확도개선사업에 따른 기재정정        \n",
       "1  20100623    시군구         3  ...      71  도로명기본도위치정확도개선사업에 따른 기재정정        \n",
       "2  20100623    시군구         3  ...      71  도로명기본도위치정확도개선사업에 따른 기재정정        \n",
       "3  20100623    시군구         3  ...      71  도로명기본도위치정확도개선사업에 따른 기재정정        \n",
       "4  20100623    시군구         3  ...      71  도로명기본도위치정확도개선사업에 따른 기재정정        \n",
       "\n",
       "  분기시군구코드  분기도로구간일련번호  입력방법  교차로수 발급여부         위도          경도  \n",
       "0                   0     1     0       37.570884  126.973331  \n",
       "1                   0     1     0       37.581420  126.965176  \n",
       "2                   0     1     0       37.586980  126.969095  \n",
       "3                   0     1     0       37.569189  126.986074  \n",
       "4                   0     1     0       37.573648  126.962948  \n",
       "\n",
       "[5 rows x 30 columns]"
      ]
     },
     "execution_count": 12,
     "metadata": {},
     "output_type": "execute_result"
    }
   ],
   "source": [
    "import pandas as pd\n",
    "\n",
    "df = pd.read_csv('data/seoul_road_network.csv')\n",
    "df.head()"
   ]
  },
  {
   "cell_type": "code",
   "execution_count": 13,
   "metadata": {
    "ExecuteTime": {
     "end_time": "2019-11-08T13:02:19.298290Z",
     "start_time": "2019-11-08T13:02:19.293875Z"
    }
   },
   "outputs": [
    {
     "data": {
      "text/plain": [
       "(71040, 30)"
      ]
     },
     "execution_count": 13,
     "metadata": {},
     "output_type": "execute_result"
    }
   ],
   "source": [
    "df.shape"
   ]
  },
  {
   "cell_type": "code",
   "execution_count": 14,
   "metadata": {
    "ExecuteTime": {
     "end_time": "2019-11-08T13:02:39.623877Z",
     "start_time": "2019-11-08T13:02:39.617561Z"
    }
   },
   "outputs": [
    {
     "data": {
      "text/plain": [
       "순서                                   1\n",
       "시군구코드                            11110\n",
       "도로구간일련번호                          3226\n",
       "도로명                               새문안로\n",
       "도로명코드                          3005004\n",
       "영문도로명                      Saemunan-ro\n",
       "고시일자                          20100422\n",
       "도로명심의일자                       20100412\n",
       "도로제정권자                              시도\n",
       "광역도로구분코드                             2\n",
       "도로위계기능구분                             3\n",
       "도로구간종속구분                             1\n",
       "기점                          신문로1가 74-2\n",
       "종점                           당주동 100-5\n",
       "도로폭                                 40\n",
       "도로길이                               177\n",
       "기초간격                                20\n",
       "국도/지방도번호                              \n",
       "부여사유            서대문안을 의미하는 새문안의 의미를 인용\n",
       "부여일자                          20100419\n",
       "이동사유코드                              71\n",
       "이동사유          도로명기본도위치정확도개선사업에 따른 기재정정\n",
       "이동일자                                  \n",
       "분기시군구코드                               \n",
       "분기도로구간일련번호                           0\n",
       "입력방법                                 1\n",
       "교차로수                                 0\n",
       "발급여부                                  \n",
       "위도                             37.5709\n",
       "경도                             126.973\n",
       "Name: 0, dtype: object"
      ]
     },
     "execution_count": 14,
     "metadata": {},
     "output_type": "execute_result"
    }
   ],
   "source": [
    "df.iloc[0]"
   ]
  },
  {
   "cell_type": "code",
   "execution_count": 34,
   "metadata": {
    "ExecuteTime": {
     "end_time": "2019-11-08T13:50:21.874668Z",
     "start_time": "2019-11-08T13:50:07.438143Z"
    }
   },
   "outputs": [],
   "source": [
    "import geopandas as gpd\n",
    "\n",
    "df = gpd.read_file('data/seoul_road_network/TL_SPRD_MANAGE_W.shp')"
   ]
  },
  {
   "cell_type": "code",
   "execution_count": 42,
   "metadata": {
    "ExecuteTime": {
     "end_time": "2019-11-08T13:51:24.220701Z",
     "start_time": "2019-11-08T13:51:24.194029Z"
    }
   },
   "outputs": [
    {
     "data": {
      "text/plain": [
       "11290    5156\n",
       "11260    4168\n",
       "11305    3976\n",
       "11620    3963\n",
       "11230    3686\n",
       "11440    3555\n",
       "11560    3484\n",
       "11110    3478\n",
       "11410    3438\n",
       "11170    3230\n",
       "11215    2977\n",
       "11530    2686\n",
       "11200    2532\n",
       "11500    2525\n",
       "11380    2485\n",
       "11590    2373\n",
       "11710    2228\n",
       "11650    2163\n",
       "11350    2162\n",
       "11320    2138\n",
       "11140    2003\n",
       "11545    1861\n",
       "11680    1835\n",
       "11740    1756\n",
       "11470    1182\n",
       "Name: SIG_CD, dtype: int64"
      ]
     },
     "execution_count": 42,
     "metadata": {},
     "output_type": "execute_result"
    }
   ],
   "source": [
    "df['SIG_CD'].value_counts()"
   ]
  },
  {
   "cell_type": "code",
   "execution_count": 55,
   "metadata": {
    "ExecuteTime": {
     "end_time": "2019-11-08T13:52:51.207345Z",
     "start_time": "2019-11-08T13:52:51.191805Z"
    }
   },
   "outputs": [],
   "source": [
    "# 11590 : 여의도\n",
    "df = df[df['SIG_CD'] == '11590']"
   ]
  },
  {
   "cell_type": "code",
   "execution_count": 56,
   "metadata": {
    "ExecuteTime": {
     "end_time": "2019-11-08T13:52:59.963611Z",
     "start_time": "2019-11-08T13:52:59.944397Z"
    },
    "code_folding": []
   },
   "outputs": [
    {
     "data": {
      "text/html": [
       "<div>\n",
       "<style scoped>\n",
       "    .dataframe tbody tr th:only-of-type {\n",
       "        vertical-align: middle;\n",
       "    }\n",
       "\n",
       "    .dataframe tbody tr th {\n",
       "        vertical-align: top;\n",
       "    }\n",
       "\n",
       "    .dataframe thead th {\n",
       "        text-align: right;\n",
       "    }\n",
       "</style>\n",
       "<table border=\"1\" class=\"dataframe\">\n",
       "  <thead>\n",
       "    <tr style=\"text-align: right;\">\n",
       "      <th></th>\n",
       "      <th>도로명</th>\n",
       "      <th>도로길이</th>\n",
       "      <th>도로폭</th>\n",
       "      <th>geometry</th>\n",
       "    </tr>\n",
       "  </thead>\n",
       "  <tbody>\n",
       "    <tr>\n",
       "      <th>52380</th>\n",
       "      <td>만양로8길</td>\n",
       "      <td>53</td>\n",
       "      <td>7</td>\n",
       "      <td>LINESTRING (126.947776365 37.50835655899999, 1...</td>\n",
       "    </tr>\n",
       "    <tr>\n",
       "      <th>52381</th>\n",
       "      <td>동작대로39가길</td>\n",
       "      <td>450</td>\n",
       "      <td>5</td>\n",
       "      <td>LINESTRING (126.9809748709999 37.493643061, 12...</td>\n",
       "    </tr>\n",
       "    <tr>\n",
       "      <th>52382</th>\n",
       "      <td>등용로6길</td>\n",
       "      <td>65</td>\n",
       "      <td>4</td>\n",
       "      <td>LINESTRING (126.933448546 37.50607434300002, 1...</td>\n",
       "    </tr>\n",
       "    <tr>\n",
       "      <th>52436</th>\n",
       "      <td>여의대방로10가길</td>\n",
       "      <td>249</td>\n",
       "      <td>6</td>\n",
       "      <td>LINESTRING (126.914844826 37.49345082500002, 1...</td>\n",
       "    </tr>\n",
       "    <tr>\n",
       "      <th>52570</th>\n",
       "      <td>국사봉1나길</td>\n",
       "      <td>147</td>\n",
       "      <td>4</td>\n",
       "      <td>LINESTRING (126.934785104 37.49486913700002, 1...</td>\n",
       "    </tr>\n",
       "  </tbody>\n",
       "</table>\n",
       "</div>"
      ],
      "text/plain": [
       "             도로명  도로길이  도로폭                                           geometry\n",
       "52380      만양로8길    53    7  LINESTRING (126.947776365 37.50835655899999, 1...\n",
       "52381   동작대로39가길   450    5  LINESTRING (126.9809748709999 37.493643061, 12...\n",
       "52382      등용로6길    65    4  LINESTRING (126.933448546 37.50607434300002, 1...\n",
       "52436  여의대방로10가길   249    6  LINESTRING (126.914844826 37.49345082500002, 1...\n",
       "52570     국사봉1나길   147    4  LINESTRING (126.934785104 37.49486913700002, 1..."
      ]
     },
     "execution_count": 56,
     "metadata": {},
     "output_type": "execute_result"
    }
   ],
   "source": [
    "df = df.rename(columns = {\n",
    "    'RN' : '도로명',\n",
    "    'ROAD_PY_LT' : '도로길이',\n",
    "    'ROAD_BT': '도로폭',\n",
    "})[['도로명', '도로길이', '도로폭', 'geometry']]\n",
    "df.head()"
   ]
  },
  {
   "cell_type": "code",
   "execution_count": 57,
   "metadata": {
    "ExecuteTime": {
     "end_time": "2019-11-08T13:53:02.258542Z",
     "start_time": "2019-11-08T13:53:02.254744Z"
    }
   },
   "outputs": [
    {
     "data": {
      "text/plain": [
       "(2373, 4)"
      ]
     },
     "execution_count": 57,
     "metadata": {},
     "output_type": "execute_result"
    }
   ],
   "source": [
    "df.shape"
   ]
  },
  {
   "cell_type": "code",
   "execution_count": 60,
   "metadata": {
    "ExecuteTime": {
     "end_time": "2019-11-08T13:59:27.890896Z",
     "start_time": "2019-11-08T13:59:27.878057Z"
    }
   },
   "outputs": [
    {
     "data": {
      "text/plain": [
       "0     105\n",
       "1       6\n",
       "2     235\n",
       "3     285\n",
       "4     428\n",
       "5     260\n",
       "6     316\n",
       "7     279\n",
       "8     140\n",
       "9      67\n",
       "10     24\n",
       "11     33\n",
       "12     62\n",
       "13     30\n",
       "14      5\n",
       "15     47\n",
       "16     15\n",
       "17      5\n",
       "19      1\n",
       "20      7\n",
       "21      8\n",
       "25      2\n",
       "30      6\n",
       "35      3\n",
       "40      2\n",
       "50      2\n",
       "Name: 도로폭, dtype: int64"
      ]
     },
     "execution_count": 60,
     "metadata": {},
     "output_type": "execute_result"
    }
   ],
   "source": [
    "df['도로폭'].value_counts().sort_index()"
   ]
  },
  {
   "cell_type": "code",
   "execution_count": 58,
   "metadata": {
    "ExecuteTime": {
     "end_time": "2019-11-08T13:53:43.898174Z",
     "start_time": "2019-11-08T13:53:43.427498Z"
    }
   },
   "outputs": [],
   "source": [
    "df.to_file('data/yeouido_road.geojson', driver='GeoJSON')"
   ]
  }
 ],
 "metadata": {
  "kernelspec": {
   "display_name": "Python 3",
   "language": "python",
   "name": "python3"
  },
  "language_info": {
   "codemirror_mode": {
    "name": "ipython",
    "version": 3
   },
   "file_extension": ".py",
   "mimetype": "text/x-python",
   "name": "python",
   "nbconvert_exporter": "python",
   "pygments_lexer": "ipython3",
   "version": "3.6.8"
  },
  "toc": {
   "base_numbering": 1,
   "nav_menu": {},
   "number_sections": true,
   "sideBar": true,
   "skip_h1_title": false,
   "title_cell": "Table of Contents",
   "title_sidebar": "Contents",
   "toc_cell": false,
   "toc_position": {},
   "toc_section_display": true,
   "toc_window_display": false
  }
 },
 "nbformat": 4,
 "nbformat_minor": 2
}
