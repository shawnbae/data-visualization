{
 "cells": [
  {
   "cell_type": "markdown",
   "metadata": {},
   "source": [
    "![](https://s3.amazonaws.com/media-p.slid.es/thumbnails/981ab3eb5e6dd2d7ee7ca85bb4b51dcc/thumb.jpg?1510783835)"
   ]
  },
  {
   "cell_type": "markdown",
   "metadata": {},
   "source": [
    "deck.gl 은 Uber 에서 만든 자바스크립트 공간 데이터 시각화 라이브러리입니다.  \n",
    "pydeck 은 이 라이브러리를 파이썬에서도 쓸 수 있도록 만든 패키지입니다.  \n",
    "이 또한 Uber 팀에서 공식적으로 만들었습니다.  \n",
    "\n",
    "특징으로는 대용량 데이터도 거뜬하게 렌더링할 수 있으며, 렌더링이 좀 버거울 수도 있는 일부 레이어는 GPU 연산을 제공합니다. (즉 대용량 처리 및 렌더링에 매우 용이하다는 말입니다.)\n",
    "\n",
    "이전에 말씀드렸다싶이, 지금까지 소개한 2개의 파이썬 패키지(folium, mapboxgl)에 비해 상대적으로 매우 최근 라이브러리고, 기술적으로도 훨씬 진보한 라이브러리라, 꼭 알고가셨으면 좋겠습니다.  \n",
    "다만, 이전보다 좀 더 섬세하게 다룰 수 있는 부분이 많아, 조금 더 어려울 수는 있습니다.  \n",
    "아직 geojson 및 지도 데이터에 익숙치 않으신 분들은 이전 포스팅을 먼저 보기를 권장드립니다.  \n",
    "\n",
    "그럼 이제 시작해보겠습니다."
   ]
  },
  {
   "cell_type": "markdown",
   "metadata": {},
   "source": [
    "# 1. 설치 & 세팅"
   ]
  },
  {
   "cell_type": "markdown",
   "metadata": {},
   "source": [
    "먼저 pip 를 통해 설치해줍니다."
   ]
  },
  {
   "cell_type": "markdown",
   "metadata": {},
   "source": [
    "```\n",
    "pip install pydeck\n",
    "```"
   ]
  },
  {
   "cell_type": "markdown",
   "metadata": {},
   "source": [
    "이후 다음의 명령어로 nbextensions 에 추가해줍니다."
   ]
  },
  {
   "cell_type": "markdown",
   "metadata": {},
   "source": [
    "```\n",
    "jupyter nbextension install --sys-prefix --symlink --overwrite --py pydeck\n",
    "jupyter nbextension enable --sys-prefix --py pydeck\n",
    "```"
   ]
  },
  {
   "cell_type": "markdown",
   "metadata": {},
   "source": [
    "mapboxgl 때와 마찬가지로, 환경 변수에 자신의 mapbox api token 이 있어야 합니다.  \n",
    "https://www.mapbox.com/ 에 접속하시고 계정을 만드신 뒤, account 에 들어가시면 자신의 token 값에 대해 알 수 있습니다.\n",
    "\n",
    "환경 변수로 다음과 같이 추가해줍니다.\n",
    "\n",
    "```\n",
    "MAPBOX_API_KEY = \"자신의 mapbox api token (pk... 로 시작함)\"\n",
    "```"
   ]
  },
  {
   "cell_type": "markdown",
   "metadata": {
    "ExecuteTime": {
     "end_time": "2019-11-18T04:55:13.962305Z",
     "start_time": "2019-11-18T04:55:13.958430Z"
    }
   },
   "source": [
    "이제 쥬피터 노트북을 열어 pydeck 을 임포트합니다."
   ]
  },
  {
   "cell_type": "code",
   "execution_count": 1,
   "metadata": {
    "ExecuteTime": {
     "end_time": "2019-11-19T05:01:44.673137Z",
     "start_time": "2019-11-19T05:01:44.627061Z"
    }
   },
   "outputs": [],
   "source": [
    "import pydeck as pdk"
   ]
  },
  {
   "cell_type": "markdown",
   "metadata": {},
   "source": [
    "# 2. 샘플 하나 해보기"
   ]
  },
  {
   "cell_type": "markdown",
   "metadata": {},
   "source": [
    "데이터는 이전처럼 서울시 행정동별 고령인구 지도 데이터를 사용합니다.  \n",
    "파일 내부에 데이터가 아래와 같이 저장되어 있습니다."
   ]
  },
  {
   "cell_type": "code",
   "execution_count": 26,
   "metadata": {
    "ExecuteTime": {
     "end_time": "2019-11-19T05:02:35.532074Z",
     "start_time": "2019-11-19T05:02:35.529636Z"
    }
   },
   "outputs": [],
   "source": [
    "geo_data = 'data/older_seoul.geojson'"
   ]
  },
  {
   "cell_type": "markdown",
   "metadata": {},
   "source": [
    "```\n",
    "{'type': 'FeatureCollection',\n",
    " 'crs': {'type': 'name',\n",
    " 'properties': {'name': 'urn:ogc:def:crs:OGC:1.3:CRS84'}},\n",
    " 'features': [{\n",
    "   'type': 'Feature',\n",
    "   'properties': {\n",
    "    '시': '서울특별시',\n",
    "    '구': '종로구',\n",
    "    '동': '사직동',\n",
    "    '행정동코드': 11110530,\n",
    "    '인구': 9700,\n",
    "    '남자': 4375,\n",
    "    '여자': 5325},\n",
    "   'geometry': {'type': 'MultiPolygon',\n",
    "    'coordinates': [[[[126.97688884274817, 37.575650779448786],\n",
    "       [126.9770344988775, 37.569194530054546],\n",
    "       [126.97597472821249, 37.569336299425764],\n",
    "       ....\n",
    "     ]]]\n",
    "   }, {\n",
    "   'type': 'Feature',\n",
    "   'properties': {\n",
    "    '시': '서울특별시',\n",
    "    '구': '종로구',\n",
    "    '동': '삼청동',\n",
    "    '행정동코드': 11110540,\n",
    "    '인구': 3013,\n",
    "    '남자': 1443,\n",
    "    '여자': 1570},\n",
    "   'geometry': {'type': 'MultiPolygon',\n",
    "    'coordinates': [[[[126.98268938649305, 37.5950655194224],\n",
    "       [126.98337258456999, 37.59435192551688],\n",
    "       [126.98386809792802, 37.59385046812643],\n",
    "       ....\n",
    "     ]]]\n",
    "   }]\n",
    "}\n",
    "```\n",
    "\n",
    "MultiPolygon 단위로, 시군구 이름, 인구, 남자, 여자 데이터를 가지고 있는 일반적인 geojson 데이터 입니다."
   ]
  },
  {
   "cell_type": "markdown",
   "metadata": {},
   "source": [
    "pydeck 은 geojson 보다는 주로 pandas dataframe 을 input으로 받습니다.  \n",
    "따라서, 기존의 이 geojson 데이터를 dataframe 형태로 받아보겠습니다."
   ]
  },
  {
   "cell_type": "code",
   "execution_count": 27,
   "metadata": {
    "ExecuteTime": {
     "end_time": "2019-11-19T05:02:36.216771Z",
     "start_time": "2019-11-19T05:02:35.972421Z"
    }
   },
   "outputs": [
    {
     "data": {
      "text/html": [
       "<div>\n",
       "<style scoped>\n",
       "    .dataframe tbody tr th:only-of-type {\n",
       "        vertical-align: middle;\n",
       "    }\n",
       "\n",
       "    .dataframe tbody tr th {\n",
       "        vertical-align: top;\n",
       "    }\n",
       "\n",
       "    .dataframe thead th {\n",
       "        text-align: right;\n",
       "    }\n",
       "</style>\n",
       "<table border=\"1\" class=\"dataframe\">\n",
       "  <thead>\n",
       "    <tr style=\"text-align: right;\">\n",
       "      <th></th>\n",
       "      <th>시</th>\n",
       "      <th>구</th>\n",
       "      <th>동</th>\n",
       "      <th>행정동코드</th>\n",
       "      <th>인구</th>\n",
       "      <th>남자</th>\n",
       "      <th>여자</th>\n",
       "      <th>geometry</th>\n",
       "    </tr>\n",
       "  </thead>\n",
       "  <tbody>\n",
       "    <tr>\n",
       "      <th>0</th>\n",
       "      <td>서울특별시</td>\n",
       "      <td>종로구</td>\n",
       "      <td>사직동</td>\n",
       "      <td>11110530</td>\n",
       "      <td>9700</td>\n",
       "      <td>4375</td>\n",
       "      <td>5325</td>\n",
       "      <td>(POLYGON ((126.9768888427482 37.57565077944879...</td>\n",
       "    </tr>\n",
       "    <tr>\n",
       "      <th>1</th>\n",
       "      <td>서울특별시</td>\n",
       "      <td>종로구</td>\n",
       "      <td>삼청동</td>\n",
       "      <td>11110540</td>\n",
       "      <td>3013</td>\n",
       "      <td>1443</td>\n",
       "      <td>1570</td>\n",
       "      <td>(POLYGON ((126.982689386493 37.5950655194224, ...</td>\n",
       "    </tr>\n",
       "    <tr>\n",
       "      <th>2</th>\n",
       "      <td>서울특별시</td>\n",
       "      <td>종로구</td>\n",
       "      <td>부암동</td>\n",
       "      <td>11110550</td>\n",
       "      <td>10525</td>\n",
       "      <td>5002</td>\n",
       "      <td>5523</td>\n",
       "      <td>(POLYGON ((126.9758511377569 37.59656422224408...</td>\n",
       "    </tr>\n",
       "    <tr>\n",
       "      <th>3</th>\n",
       "      <td>서울특별시</td>\n",
       "      <td>종로구</td>\n",
       "      <td>평창동</td>\n",
       "      <td>11110560</td>\n",
       "      <td>18830</td>\n",
       "      <td>8817</td>\n",
       "      <td>10013</td>\n",
       "      <td>(POLYGON ((126.9750746678809 37.63138628651299...</td>\n",
       "    </tr>\n",
       "    <tr>\n",
       "      <th>4</th>\n",
       "      <td>서울특별시</td>\n",
       "      <td>종로구</td>\n",
       "      <td>무악동</td>\n",
       "      <td>11110570</td>\n",
       "      <td>8745</td>\n",
       "      <td>4078</td>\n",
       "      <td>4667</td>\n",
       "      <td>(POLYGON ((126.960673532739 37.58079784202972,...</td>\n",
       "    </tr>\n",
       "  </tbody>\n",
       "</table>\n",
       "</div>"
      ],
      "text/plain": [
       "       시    구    동     행정동코드     인구    남자     여자  \\\n",
       "0  서울특별시  종로구  사직동  11110530   9700  4375   5325   \n",
       "1  서울특별시  종로구  삼청동  11110540   3013  1443   1570   \n",
       "2  서울특별시  종로구  부암동  11110550  10525  5002   5523   \n",
       "3  서울특별시  종로구  평창동  11110560  18830  8817  10013   \n",
       "4  서울특별시  종로구  무악동  11110570   8745  4078   4667   \n",
       "\n",
       "                                            geometry  \n",
       "0  (POLYGON ((126.9768888427482 37.57565077944879...  \n",
       "1  (POLYGON ((126.982689386493 37.5950655194224, ...  \n",
       "2  (POLYGON ((126.9758511377569 37.59656422224408...  \n",
       "3  (POLYGON ((126.9750746678809 37.63138628651299...  \n",
       "4  (POLYGON ((126.960673532739 37.58079784202972,...  "
      ]
     },
     "execution_count": 27,
     "metadata": {},
     "output_type": "execute_result"
    }
   ],
   "source": [
    "import geopandas as gpd\n",
    "\n",
    "df = gpd.read_file(geo_data)\n",
    "df.head()"
   ]
  },
  {
   "cell_type": "markdown",
   "metadata": {},
   "source": [
    "잘 읽어온 것을 확인할 수 있습니다.  \n",
    "\n",
    "그런데 하나 수정해야할 것이 있습니다.  \n",
    "geometry 컬럼입니다. 현재 여기에 값들은 `shapely.geometry.multipolygon` 형태인데, pydeck 은 이런 형태를 읽지 못합니다.  \n",
    "**pydeck 에서는 항상 geometry 에 연속된 포인트들을 갖는 리스트 값이 있어야 합니다.**  \n",
    "따라서, 다소 귀찮지만 다음과 같은 작업들을 해줘야합니다."
   ]
  },
  {
   "cell_type": "code",
   "execution_count": 28,
   "metadata": {
    "ExecuteTime": {
     "end_time": "2019-11-19T05:02:36.418530Z",
     "start_time": "2019-11-19T05:02:36.300842Z"
    }
   },
   "outputs": [],
   "source": [
    "def multipolygon_to_coordinates(x):\n",
    "    lon, lat = x[0].exterior.xy\n",
    "    return [[x, y] for x, y in zip(lon, lat)]\n",
    "\n",
    "df['coordinates'] = df['geometry'].apply(multipolygon_to_coordinates)\n",
    "del df['geometry']"
   ]
  },
  {
   "cell_type": "markdown",
   "metadata": {},
   "source": [
    "이후 렌더링할 지도에는 '인구' 별로 색을 다르게 하려고 합니다. \n",
    "인구 값에 따른 색상 지정을 데이터프레임에서 미리 작업해줄 필요가 있습니다. (사실 pydeck 은 데이터프레임만 보고 렌더링하기 때문에, 렌더링 전에 색상, 크기 시각화 하고싶은 기준들을 새로운 컬럼으로 추가해줘야 합니다.)"
   ]
  },
  {
   "cell_type": "code",
   "execution_count": 29,
   "metadata": {
    "ExecuteTime": {
     "end_time": "2019-11-19T05:02:36.586438Z",
     "start_time": "2019-11-19T05:02:36.582410Z"
    }
   },
   "outputs": [],
   "source": [
    "# 인구를 0 ~ 1 사이의 값으로 변환시킵니다.\n",
    "df['정규화인구'] = df['인구'] / df['인구'].max()"
   ]
  },
  {
   "cell_type": "markdown",
   "metadata": {},
   "source": [
    "한편, 지금 데이터프레임은 geopandas.dataframe 입니다.  \n",
    "pydeck 은 pandas.dataframe 형태만 인식 가능합니다. 따라서 데이터프레임을 변환하겠습니다."
   ]
  },
  {
   "cell_type": "code",
   "execution_count": 30,
   "metadata": {
    "ExecuteTime": {
     "end_time": "2019-11-19T05:02:36.910157Z",
     "start_time": "2019-11-19T05:02:36.907325Z"
    }
   },
   "outputs": [],
   "source": [
    "import pandas as pd\n",
    "\n",
    "df = pd.DataFrame(df)"
   ]
  },
  {
   "cell_type": "markdown",
   "metadata": {},
   "source": [
    "최종적으로, pydeck 에 input 으로 줄 데이터프레임은 다음과 같이 생겼습니다."
   ]
  },
  {
   "cell_type": "code",
   "execution_count": 31,
   "metadata": {
    "ExecuteTime": {
     "end_time": "2019-11-19T05:02:37.797146Z",
     "start_time": "2019-11-19T05:02:37.726468Z"
    }
   },
   "outputs": [
    {
     "data": {
      "text/html": [
       "<div>\n",
       "<style scoped>\n",
       "    .dataframe tbody tr th:only-of-type {\n",
       "        vertical-align: middle;\n",
       "    }\n",
       "\n",
       "    .dataframe tbody tr th {\n",
       "        vertical-align: top;\n",
       "    }\n",
       "\n",
       "    .dataframe thead th {\n",
       "        text-align: right;\n",
       "    }\n",
       "</style>\n",
       "<table border=\"1\" class=\"dataframe\">\n",
       "  <thead>\n",
       "    <tr style=\"text-align: right;\">\n",
       "      <th></th>\n",
       "      <th>시</th>\n",
       "      <th>구</th>\n",
       "      <th>동</th>\n",
       "      <th>행정동코드</th>\n",
       "      <th>인구</th>\n",
       "      <th>남자</th>\n",
       "      <th>여자</th>\n",
       "      <th>coordinates</th>\n",
       "      <th>정규화인구</th>\n",
       "    </tr>\n",
       "  </thead>\n",
       "  <tbody>\n",
       "    <tr>\n",
       "      <th>0</th>\n",
       "      <td>서울특별시</td>\n",
       "      <td>종로구</td>\n",
       "      <td>사직동</td>\n",
       "      <td>11110530</td>\n",
       "      <td>9700</td>\n",
       "      <td>4375</td>\n",
       "      <td>5325</td>\n",
       "      <td>[[126.97688884274817, 37.575650779448786], [12...</td>\n",
       "      <td>0.167132</td>\n",
       "    </tr>\n",
       "    <tr>\n",
       "      <th>1</th>\n",
       "      <td>서울특별시</td>\n",
       "      <td>종로구</td>\n",
       "      <td>삼청동</td>\n",
       "      <td>11110540</td>\n",
       "      <td>3013</td>\n",
       "      <td>1443</td>\n",
       "      <td>1570</td>\n",
       "      <td>[[126.98268938649305, 37.5950655194224], [126....</td>\n",
       "      <td>0.051914</td>\n",
       "    </tr>\n",
       "    <tr>\n",
       "      <th>2</th>\n",
       "      <td>서울특별시</td>\n",
       "      <td>종로구</td>\n",
       "      <td>부암동</td>\n",
       "      <td>11110550</td>\n",
       "      <td>10525</td>\n",
       "      <td>5002</td>\n",
       "      <td>5523</td>\n",
       "      <td>[[126.97585113775686, 37.59656422224408], [126...</td>\n",
       "      <td>0.181347</td>\n",
       "    </tr>\n",
       "    <tr>\n",
       "      <th>3</th>\n",
       "      <td>서울특별시</td>\n",
       "      <td>종로구</td>\n",
       "      <td>평창동</td>\n",
       "      <td>11110560</td>\n",
       "      <td>18830</td>\n",
       "      <td>8817</td>\n",
       "      <td>10013</td>\n",
       "      <td>[[126.97507466788086, 37.63138628651299], [126...</td>\n",
       "      <td>0.324443</td>\n",
       "    </tr>\n",
       "    <tr>\n",
       "      <th>4</th>\n",
       "      <td>서울특별시</td>\n",
       "      <td>종로구</td>\n",
       "      <td>무악동</td>\n",
       "      <td>11110570</td>\n",
       "      <td>8745</td>\n",
       "      <td>4078</td>\n",
       "      <td>4667</td>\n",
       "      <td>[[126.96067353273895, 37.580797842029725], [12...</td>\n",
       "      <td>0.150677</td>\n",
       "    </tr>\n",
       "  </tbody>\n",
       "</table>\n",
       "</div>"
      ],
      "text/plain": [
       "       시    구    동     행정동코드     인구    남자     여자  \\\n",
       "0  서울특별시  종로구  사직동  11110530   9700  4375   5325   \n",
       "1  서울특별시  종로구  삼청동  11110540   3013  1443   1570   \n",
       "2  서울특별시  종로구  부암동  11110550  10525  5002   5523   \n",
       "3  서울특별시  종로구  평창동  11110560  18830  8817  10013   \n",
       "4  서울특별시  종로구  무악동  11110570   8745  4078   4667   \n",
       "\n",
       "                                         coordinates     정규화인구  \n",
       "0  [[126.97688884274817, 37.575650779448786], [12...  0.167132  \n",
       "1  [[126.98268938649305, 37.5950655194224], [126....  0.051914  \n",
       "2  [[126.97585113775686, 37.59656422224408], [126...  0.181347  \n",
       "3  [[126.97507466788086, 37.63138628651299], [126...  0.324443  \n",
       "4  [[126.96067353273895, 37.580797842029725], [12...  0.150677  "
      ]
     },
     "execution_count": 31,
     "metadata": {},
     "output_type": "execute_result"
    }
   ],
   "source": [
    "df.head()"
   ]
  },
  {
   "cell_type": "markdown",
   "metadata": {},
   "source": [
    "이제 pydeck 을 이용하여 각 데이터를 Choropleth 로 시각화 해보겠습니다.  \n",
    "pydeck 에서는 Choropleth 로 부르지않고 PolygonLayer 라고 부릅니다. "
   ]
  },
  {
   "cell_type": "code",
   "execution_count": 32,
   "metadata": {
    "ExecuteTime": {
     "end_time": "2019-11-19T05:02:38.276610Z",
     "start_time": "2019-11-19T05:02:38.196500Z"
    }
   },
   "outputs": [
    {
     "data": {
      "application/vnd.jupyter.widget-view+json": {
       "model_id": "ea0c438095de4d35bb926d3da20d99f0",
       "version_major": 2,
       "version_minor": 0
      },
      "text/plain": [
       "DeckGLWidget(json_input='{\"initialViewState\": {\"bearing\": 0, \"latitude\": 37.565, \"longitude\": 126.986, \"maxZoo…"
      ]
     },
     "metadata": {},
     "output_type": "display_data"
    }
   ],
   "source": [
    "# Make layer\n",
    "layer = pdk.Layer(\n",
    "    'PolygonLayer', # 사용할 Layer 타입\n",
    "    df, # 시각화에 쓰일 데이터프레임\n",
    "    get_polygon='coordinates', # geometry 정보를 담고있는 컬럼 이름\n",
    "    get_fill_color='[0, 255*정규화인구, 0]', # 각 데이터 별 rgb 또는 rgba 값 (0~255)\n",
    "    pickable=True, # 지도와 interactive 한 동작 on\n",
    "    auto_highlight=True # 마우스 오버(hover) 시 박스 출력\n",
    ")\n",
    "\n",
    "# Set the viewport location\n",
    "center = [126.986, 37.565]\n",
    "view_state = pdk.ViewState(\n",
    "    longitude=center[0],\n",
    "    latitude=center[1],\n",
    "    zoom=10)\n",
    "\n",
    "# Render\n",
    "r = pdk.Deck(layers=[layer], initial_view_state=view_state)\n",
    "r.show()"
   ]
  },
  {
   "cell_type": "markdown",
   "metadata": {},
   "source": [
    "데이터 별 지도 정보에 높이를 주어 3d 로도 볼 수 있습니다.  \n",
    "색과 마찬가지로 '인구' 기준으로 높이를 줘보겠습니다."
   ]
  },
  {
   "cell_type": "code",
   "execution_count": 33,
   "metadata": {
    "ExecuteTime": {
     "end_time": "2019-11-19T05:03:59.098342Z",
     "start_time": "2019-11-19T05:03:59.029132Z"
    }
   },
   "outputs": [
    {
     "data": {
      "application/vnd.jupyter.widget-view+json": {
       "model_id": "3fb248f58a6f47dfbb81ca4ef2909f05",
       "version_major": 2,
       "version_minor": 0
      },
      "text/plain": [
       "DeckGLWidget(json_input='{\"initialViewState\": {\"bearing\": 15, \"latitude\": 37.565, \"longitude\": 126.986, \"maxZo…"
      ]
     },
     "metadata": {},
     "output_type": "display_data"
    }
   ],
   "source": [
    "layer.extruded = True;\n",
    "layer.get_elevation = '인구';\n",
    "layer.elevation_scale = 0.05\n",
    "\n",
    "view_state.bearing=15\n",
    "view_state.pitch=45\n",
    "\n",
    "r = pdk.Deck(layers=[layer], initial_view_state=view_state)\n",
    "r.show()"
   ]
  },
  {
   "cell_type": "markdown",
   "metadata": {},
   "source": [
    "제대로 시각화 된 것을 확인하실 수 있습니다."
   ]
  },
  {
   "cell_type": "markdown",
   "metadata": {},
   "source": [
    "# 동작 살펴보기"
   ]
  },
  {
   "cell_type": "markdown",
   "metadata": {},
   "source": [
    "위 코드 기준으로 동작을 하나씩 살펴보겠습니다.  \n",
    "\n",
    "## pydeck class\n",
    "\n",
    "### pdk.Layer\n",
    "우리가 어떤 레이어를 지도 위에 올릴 때, 항상 이 클래스를 통해서 만듭니다.  \n",
    "위 코드에 주석으로도 설명해두었지만, 좀 더 구체적으로 어떤 파라미터(속성) 들이 있는지, 필요한 것만 살펴보겠습니다.\n",
    "\n",
    "```\n",
    "pdk.Layer(\n",
    "    type = \"미리 정의된 레이어 타입\",\n",
    "    id = \"이 레이어의 아이디 (optional)\",\n",
    "    data = \"pandas.DataFrame 또는 geojson url\",\n",
    ")\n",
    "```\n",
    "\n",
    "일단 이 위의 파라미터들이 기본입니다.  \n",
    "특히 id 의 경우 같은 타입의 여러 개의 레이어를 지도에 쌓는 경우, 각 레이어를 다른 id 로 설정해줘야 합니다.  \n",
    "예를 들어, 지도에 PolygonLayer 가 여러 개 있는 경우, 각 레이어의 id 를 'polygon1', 'polygon2' 이런 식으로 주어야 합니다.  \n",
    "\n",
    "### pdk.ViewState\n",
    "folium 이나 mapboxgl 에서도 흔히 본, 익숙한 파라미터들이 있습니다.  \n",
    "지도 렌더링할 때, 초기화 뷰에 대한 설정입니다.  \n",
    "익숙하실거라 생각하여 별도의 설명은 하지않겠습니다.\n",
    "\n",
    "```\n",
    "pdk.ViewState(\n",
    "    longitude = \"중심 경도 (default 0)\",\n",
    "    latitude = \"중심 위도 (default 0)\",\n",
    "    zoom = \"줌 레벨 (default 0),\n",
    "    pitch = (default 0),\n",
    "    bearing = (default 0),\n",
    "    **kwargs,\n",
    ")\n",
    "```\n",
    "\n",
    "### pdk.Deck\n",
    "만들어진 레이어, 뷰 정보, 맵 스타일 등 모든 요소를 모아 출력시킬 수 있는 클래스 입니다.  \n",
    "기본 값으로 다음의 값들이 들어가있습니다.\n",
    "\n",
    "```\n",
    "pdk.Deck(\n",
    "    layers=[],\n",
    "    views=[{\"controller\": true, \"type\": \"MapView\"}],\n",
    "    map_style='mapbox://styles/mapbox/dark-v9',\n",
    "    mapbox_key=None,\n",
    "    initial_view_state={\"bearing\": 0, \n",
    "                        \"latitude\": 0.0, \n",
    "                        \"longitude\": 0.0,\n",
    "                        \"maxZoom\": 20,\n",
    "                        \"minZoom\": 0, \n",
    "                        \"pitch\": 0, \n",
    "                        \"zoom\": 1},\n",
    "    width='100%',\n",
    "    height=500,\n",
    "    tooltip=True,\n",
    ")\n",
    "```\n",
    "\n",
    "레이어를 쌓고싶다면, `layers` 리스트에 추가시키면 됩니다."
   ]
  },
  {
   "cell_type": "markdown",
   "metadata": {},
   "source": [
    "## pydeck 의 핵심\n",
    "\n",
    "### 입력 데이터를 pandas.DataFrame 을 사용한다.\n",
    "물론 geojson 을 사용할 수도 있습니다만, 대부분 `pandas.DataFrame` 사용하고있습니다.  \n",
    "mapboxgl 의 경우 geojson 을 파싱해와, 바로 데이터 값에 따른 색상, 높이 등의 시각화 요소를 다르게 할 수 있었지만, pydeck 은 이게 안됩니다.  \n",
    "입력 데이터를 어떻게든 `pandas.DataFrame` 로 만드는게 전처리에서 가장 중요한 부분이라 할 수 있습니다.  \n",
    "만약 렌더링이 잘 안되는 경우 `pandas.DataFrame` 이 맞는지 우선적으로 확인해볼 필요가 있습니다.\n",
    "\n",
    "### 다양한 레이어가 많다.\n",
    "말 그대로 입니다. 아래에서 더 살펴보겠습니다.\n",
    "\n",
    "### 레이어를 쌓을 수 있다.\n",
    "이게 mapboxgl 과 비교되는 가장 큰 장점입니다.  \n",
    "`pdk.Deck` 의 `layers` 를 통해 레이어를 쌓을 수 있습니다!  "
   ]
  },
  {
   "cell_type": "markdown",
   "metadata": {},
   "source": [
    "# 다른 레이어들 살펴보기"
   ]
  },
  {
   "cell_type": "markdown",
   "metadata": {},
   "source": [
    "## Point 단위"
   ]
  },
  {
   "cell_type": "markdown",
   "metadata": {},
   "source": [
    "샘플 데이터는 서울시내 공중화장실 데이터를 사용하겠습니다."
   ]
  },
  {
   "cell_type": "code",
   "execution_count": 34,
   "metadata": {
    "ExecuteTime": {
     "end_time": "2019-11-19T05:06:14.367951Z",
     "start_time": "2019-11-19T05:06:14.365520Z"
    }
   },
   "outputs": [],
   "source": [
    "geo_data = 'data/toilet_seoul_sample.geojson'"
   ]
  },
  {
   "cell_type": "markdown",
   "metadata": {},
   "source": [
    "위 파일을 열어보면 다음과 같이 데이터가 저장되어 있습니다.\n",
    "\n",
    "```\n",
    "{'type': 'FeatureCollection',\n",
    " 'features': [{'type': 'Feature',\n",
    "   'geometry': {'type': 'Point', 'coordinates': [127.158647, 37.501401]},\n",
    "   'properties': {'구명': '송파구', '법정동명': '마천동', '이용량': 248}},\n",
    "  {'type': 'Feature',\n",
    "   'geometry': {'type': 'Point', 'coordinates': [127.073728, 37.644937]},\n",
    "   'properties': {'구명': '노원구', '법정동명': '하계동', '이용량': 252}},\n",
    "  {'type': 'Feature',\n",
    "   'geometry': {'type': 'Point', 'coordinates': [127.077637, 37.640335]},\n",
    "   'properties': {'구명': '노원구', '법정동명': '하계동', '이용량': 192}},\n",
    "  {'type': 'Feature',\n",
    "   'geometry': {'type': 'Point', 'coordinates': [127.020449, 37.645724]},\n",
    "   'properties': {'구명': '강북구', '법정동명': '수유동', '이용량': 409}},\n",
    "  {'type': 'Feature',\n",
    "   'geometry': {'type': 'Point', 'coordinates': [127.031187, 37.659783]},\n",
    "   'properties': {'구명': '도봉구', '법정동명': '방학동', '이용량': 333}},\n",
    "  {'type': 'Feature',\n",
    "   'geometry': {'type': 'Point', 'coordinates': [127.123028, 37.502339]},\n",
    "   'properties': {'구명': '송파구', '법정동명': '가락동', '이용량': 333}},\n",
    "   ...\n",
    "]}\n",
    "```\n",
    "\n",
    "Point 단위로 구명, 법정동명, 이용량을 가지고 있는 일반적인 geojson 데이터 입니다.  \n",
    "(이용량은 실제 값이 아니고, 샘플용으로 제가 랜덤으로 준 값입니다.)"
   ]
  },
  {
   "cell_type": "markdown",
   "metadata": {},
   "source": [
    "먼저 데이터를 읽어와 `df` 에 저장하겠습니다."
   ]
  },
  {
   "cell_type": "code",
   "execution_count": 35,
   "metadata": {
    "ExecuteTime": {
     "end_time": "2019-11-19T05:06:15.538644Z",
     "start_time": "2019-11-19T05:06:15.044675Z"
    }
   },
   "outputs": [
    {
     "data": {
      "text/html": [
       "<div>\n",
       "<style scoped>\n",
       "    .dataframe tbody tr th:only-of-type {\n",
       "        vertical-align: middle;\n",
       "    }\n",
       "\n",
       "    .dataframe tbody tr th {\n",
       "        vertical-align: top;\n",
       "    }\n",
       "\n",
       "    .dataframe thead th {\n",
       "        text-align: right;\n",
       "    }\n",
       "</style>\n",
       "<table border=\"1\" class=\"dataframe\">\n",
       "  <thead>\n",
       "    <tr style=\"text-align: right;\">\n",
       "      <th></th>\n",
       "      <th>구명</th>\n",
       "      <th>법정동명</th>\n",
       "      <th>이용량</th>\n",
       "      <th>lat</th>\n",
       "      <th>lng</th>\n",
       "    </tr>\n",
       "  </thead>\n",
       "  <tbody>\n",
       "    <tr>\n",
       "      <th>0</th>\n",
       "      <td>송파구</td>\n",
       "      <td>마천동</td>\n",
       "      <td>248</td>\n",
       "      <td>37.501401</td>\n",
       "      <td>127.158647</td>\n",
       "    </tr>\n",
       "    <tr>\n",
       "      <th>1</th>\n",
       "      <td>노원구</td>\n",
       "      <td>하계동</td>\n",
       "      <td>252</td>\n",
       "      <td>37.644937</td>\n",
       "      <td>127.073728</td>\n",
       "    </tr>\n",
       "    <tr>\n",
       "      <th>2</th>\n",
       "      <td>노원구</td>\n",
       "      <td>하계동</td>\n",
       "      <td>192</td>\n",
       "      <td>37.640335</td>\n",
       "      <td>127.077637</td>\n",
       "    </tr>\n",
       "    <tr>\n",
       "      <th>3</th>\n",
       "      <td>강북구</td>\n",
       "      <td>수유동</td>\n",
       "      <td>409</td>\n",
       "      <td>37.645724</td>\n",
       "      <td>127.020449</td>\n",
       "    </tr>\n",
       "    <tr>\n",
       "      <th>4</th>\n",
       "      <td>도봉구</td>\n",
       "      <td>방학동</td>\n",
       "      <td>333</td>\n",
       "      <td>37.659783</td>\n",
       "      <td>127.031187</td>\n",
       "    </tr>\n",
       "  </tbody>\n",
       "</table>\n",
       "</div>"
      ],
      "text/plain": [
       "    구명 법정동명  이용량        lat         lng\n",
       "0  송파구  마천동  248  37.501401  127.158647\n",
       "1  노원구  하계동  252  37.644937  127.073728\n",
       "2  노원구  하계동  192  37.640335  127.077637\n",
       "3  강북구  수유동  409  37.645724  127.020449\n",
       "4  도봉구  방학동  333  37.659783  127.031187"
      ]
     },
     "execution_count": 35,
     "metadata": {},
     "output_type": "execute_result"
    }
   ],
   "source": [
    "import geopandas as gpd\n",
    "\n",
    "df = gpd.read_file(geo_data)\n",
    "df['lat'] = df['geometry'].apply(lambda coord: coord.y)\n",
    "df['lng'] = df['geometry'].apply(lambda coord: coord.x)\n",
    "del df['geometry']\n",
    "\n",
    "df = pd.DataFrame(df)\n",
    "df.head()"
   ]
  },
  {
   "cell_type": "markdown",
   "metadata": {},
   "source": [
    "### ScatterplotLayer"
   ]
  },
  {
   "cell_type": "markdown",
   "metadata": {},
   "source": [
    "모든 Point 들을 지도에 그대로 출력합니다."
   ]
  },
  {
   "cell_type": "code",
   "execution_count": 36,
   "metadata": {
    "ExecuteTime": {
     "end_time": "2019-11-19T05:06:17.792689Z",
     "start_time": "2019-11-19T05:06:17.712780Z"
    }
   },
   "outputs": [
    {
     "data": {
      "application/vnd.jupyter.widget-view+json": {
       "model_id": "6e4aac431f16491c8b4db0d44ca56da5",
       "version_major": 2,
       "version_minor": 0
      },
      "text/plain": [
       "DeckGLWidget(json_input='{\"initialViewState\": {\"bearing\": 0, \"latitude\": 37.565, \"longitude\": 126.986, \"maxZoo…"
      ]
     },
     "metadata": {},
     "output_type": "display_data"
    }
   ],
   "source": [
    "layer = pdk.Layer(\n",
    "    'ScatterplotLayer',\n",
    "    df,\n",
    "    get_position='[lng, lat]',\n",
    "    get_radius=50,\n",
    "    get_fill_color='[255, 255, 255]',\n",
    "    pickable=True,\n",
    "    auto_highlight=True\n",
    ")\n",
    "\n",
    "center = [126.986, 37.565]\n",
    "view_state = pdk.ViewState(\n",
    "    longitude=center[0],\n",
    "    latitude=center[1],\n",
    "    zoom=10)\n",
    "\n",
    "r = pdk.Deck(layers=[layer], initial_view_state=view_state)\n",
    "r.show()"
   ]
  },
  {
   "cell_type": "markdown",
   "metadata": {},
   "source": [
    "이용량에 따라 색을 다르게 하고싶으면, 다음과 같이 `get_fill_color` 를 수정해주면 됩니다.  \n",
    "이 때, 색상은 0~255 값을 갖는 rgba 임을 잊지 말아주세요."
   ]
  },
  {
   "cell_type": "code",
   "execution_count": 50,
   "metadata": {
    "ExecuteTime": {
     "end_time": "2019-11-19T05:10:52.868702Z",
     "start_time": "2019-11-19T05:10:52.856882Z"
    }
   },
   "outputs": [
    {
     "data": {
      "text/html": [
       "<div>\n",
       "<style scoped>\n",
       "    .dataframe tbody tr th:only-of-type {\n",
       "        vertical-align: middle;\n",
       "    }\n",
       "\n",
       "    .dataframe tbody tr th {\n",
       "        vertical-align: top;\n",
       "    }\n",
       "\n",
       "    .dataframe thead th {\n",
       "        text-align: right;\n",
       "    }\n",
       "</style>\n",
       "<table border=\"1\" class=\"dataframe\">\n",
       "  <thead>\n",
       "    <tr style=\"text-align: right;\">\n",
       "      <th></th>\n",
       "      <th>구명</th>\n",
       "      <th>법정동명</th>\n",
       "      <th>이용량</th>\n",
       "      <th>lat</th>\n",
       "      <th>lng</th>\n",
       "      <th>정규화이용량</th>\n",
       "    </tr>\n",
       "  </thead>\n",
       "  <tbody>\n",
       "    <tr>\n",
       "      <th>0</th>\n",
       "      <td>송파구</td>\n",
       "      <td>마천동</td>\n",
       "      <td>248</td>\n",
       "      <td>37.501401</td>\n",
       "      <td>127.158647</td>\n",
       "      <td>0.496994</td>\n",
       "    </tr>\n",
       "    <tr>\n",
       "      <th>1</th>\n",
       "      <td>노원구</td>\n",
       "      <td>하계동</td>\n",
       "      <td>252</td>\n",
       "      <td>37.644937</td>\n",
       "      <td>127.073728</td>\n",
       "      <td>0.505010</td>\n",
       "    </tr>\n",
       "    <tr>\n",
       "      <th>2</th>\n",
       "      <td>노원구</td>\n",
       "      <td>하계동</td>\n",
       "      <td>192</td>\n",
       "      <td>37.640335</td>\n",
       "      <td>127.077637</td>\n",
       "      <td>0.384770</td>\n",
       "    </tr>\n",
       "    <tr>\n",
       "      <th>3</th>\n",
       "      <td>강북구</td>\n",
       "      <td>수유동</td>\n",
       "      <td>409</td>\n",
       "      <td>37.645724</td>\n",
       "      <td>127.020449</td>\n",
       "      <td>0.819639</td>\n",
       "    </tr>\n",
       "    <tr>\n",
       "      <th>4</th>\n",
       "      <td>도봉구</td>\n",
       "      <td>방학동</td>\n",
       "      <td>333</td>\n",
       "      <td>37.659783</td>\n",
       "      <td>127.031187</td>\n",
       "      <td>0.667335</td>\n",
       "    </tr>\n",
       "  </tbody>\n",
       "</table>\n",
       "</div>"
      ],
      "text/plain": [
       "    구명 법정동명  이용량        lat         lng    정규화이용량\n",
       "0  송파구  마천동  248  37.501401  127.158647  0.496994\n",
       "1  노원구  하계동  252  37.644937  127.073728  0.505010\n",
       "2  노원구  하계동  192  37.640335  127.077637  0.384770\n",
       "3  강북구  수유동  409  37.645724  127.020449  0.819639\n",
       "4  도봉구  방학동  333  37.659783  127.031187  0.667335"
      ]
     },
     "execution_count": 50,
     "metadata": {},
     "output_type": "execute_result"
    }
   ],
   "source": [
    "df.head()"
   ]
  },
  {
   "cell_type": "code",
   "execution_count": 53,
   "metadata": {
    "ExecuteTime": {
     "end_time": "2019-11-19T05:11:43.771950Z",
     "start_time": "2019-11-19T05:11:43.672138Z"
    }
   },
   "outputs": [
    {
     "data": {
      "application/vnd.jupyter.widget-view+json": {
       "model_id": "c92bfa1f11004811b84b7519fa9b296e",
       "version_major": 2,
       "version_minor": 0
      },
      "text/plain": [
       "DeckGLWidget(json_input='{\"initialViewState\": {\"bearing\": 0, \"latitude\": 37.565, \"longitude\": 126.986, \"maxZoo…"
      ]
     },
     "metadata": {},
     "output_type": "display_data"
    }
   ],
   "source": [
    "df['정규화이용량'] = df['이용량'] / df['이용량'].max()\n",
    "layer.data = df\n",
    "layer.get_fill_color = '[255*정규화이용량, 255*정규화이용량, 255]'\n",
    "\n",
    "r = pdk.Deck(layers=[layer], initial_view_state=view_state)\n",
    "r.show()"
   ]
  },
  {
   "cell_type": "markdown",
   "metadata": {},
   "source": [
    "이 외에 각 Point 의 지름 반지름 설정, 높이 설정 등은 `get_radius`, `get_elevation` 으로 바꿀 수 있습니다.  \n",
    "방법은 위와 동일합니다."
   ]
  },
  {
   "cell_type": "markdown",
   "metadata": {},
   "source": [
    "### HeatmapLayer"
   ]
  },
  {
   "cell_type": "markdown",
   "metadata": {
    "ExecuteTime": {
     "end_time": "2019-11-18T08:53:45.783922Z",
     "start_time": "2019-11-18T08:53:45.780194Z"
    }
   },
   "source": [
    "Point 들의 밀집도를 한 눈에 파악할 수 있습니다.  \n",
    "밀도가 높은 곳은 더 진한 색상으로 표시됩니다."
   ]
  },
  {
   "cell_type": "code",
   "execution_count": 54,
   "metadata": {
    "ExecuteTime": {
     "end_time": "2019-11-19T05:12:22.567368Z",
     "start_time": "2019-11-19T05:12:22.467750Z"
    }
   },
   "outputs": [
    {
     "data": {
      "application/vnd.jupyter.widget-view+json": {
       "model_id": "7ef453a969614060a0f108e63d88f3fd",
       "version_major": 2,
       "version_minor": 0
      },
      "text/plain": [
       "DeckGLWidget(json_input='{\"initialViewState\": {\"bearing\": 0, \"latitude\": 37.565, \"longitude\": 126.986, \"maxZoo…"
      ]
     },
     "metadata": {},
     "output_type": "display_data"
    }
   ],
   "source": [
    "layer = pdk.Layer(\n",
    "    'HeatmapLayer',\n",
    "    df,\n",
    "    get_position='[lng, lat]'\n",
    ")\n",
    "\n",
    "center = [126.986, 37.565]\n",
    "view_state = pdk.ViewState(\n",
    "    longitude=center[0],\n",
    "    latitude=center[1],\n",
    "    zoom=10)\n",
    "\n",
    "r = pdk.Deck(layers=[layer], initial_view_state=view_state)\n",
    "r.show()"
   ]
  },
  {
   "cell_type": "markdown",
   "metadata": {},
   "source": [
    "`colorRange` 나 `intensity`, `getWeight` 등의 추가적인 파라미터들을 통해 색상, 밀도 설정, 가중치를 섬세하게 설정할 수 있습니다.  \n",
    "이런 추가적인 파라미터 사용법은 이후에 설명드리겠습니다."
   ]
  },
  {
   "cell_type": "markdown",
   "metadata": {},
   "source": [
    "### Grid Layers"
   ]
  },
  {
   "cell_type": "markdown",
   "metadata": {},
   "source": [
    "#### CPUGridLayer (GPUGridLayer)"
   ]
  },
  {
   "cell_type": "markdown",
   "metadata": {
    "ExecuteTime": {
     "end_time": "2019-11-18T08:59:25.573780Z",
     "start_time": "2019-11-18T08:59:25.569447Z"
    }
   },
   "source": [
    "pydeck 에서만 제공하는 아주 강력한 레이어 중 하나입니다.  \n",
    "Point 들을 일정한 그리드 단위로 묶어서 표현합니다."
   ]
  },
  {
   "cell_type": "code",
   "execution_count": 55,
   "metadata": {
    "ExecuteTime": {
     "end_time": "2019-11-19T05:12:52.906326Z",
     "start_time": "2019-11-19T05:12:52.810200Z"
    }
   },
   "outputs": [
    {
     "data": {
      "application/vnd.jupyter.widget-view+json": {
       "model_id": "c957051dbc294e69abef690ecd7f5501",
       "version_major": 2,
       "version_minor": 0
      },
      "text/plain": [
       "DeckGLWidget(json_input='{\"initialViewState\": {\"bearing\": 0, \"latitude\": 37.565, \"longitude\": 126.986, \"maxZoo…"
      ]
     },
     "metadata": {},
     "output_type": "display_data"
    }
   ],
   "source": [
    "layer = pdk.Layer(\n",
    "    'CPUGridLayer', # 대용량 데이터의 경우 'GPUGridLayer'\n",
    "    df,\n",
    "    get_position='[lng, lat]',\n",
    "    pickable=True,\n",
    "    auto_highlight=True\n",
    ")\n",
    "\n",
    "center = [126.986, 37.565]\n",
    "view_state = pdk.ViewState(\n",
    "    longitude=center[0],\n",
    "    latitude=center[1],\n",
    "    zoom=10)\n",
    "\n",
    "r = pdk.Deck(layers=[layer], initial_view_state=view_state)\n",
    "r.show()"
   ]
  },
  {
   "cell_type": "markdown",
   "metadata": {
    "ExecuteTime": {
     "end_time": "2019-11-18T09:00:16.775093Z",
     "start_time": "2019-11-18T09:00:16.771358Z"
    }
   },
   "source": [
    "특히, 다음과 같이 높이도 추가로 줄 수 있습니다."
   ]
  },
  {
   "cell_type": "code",
   "execution_count": 56,
   "metadata": {
    "ExecuteTime": {
     "end_time": "2019-11-19T05:13:15.455557Z",
     "start_time": "2019-11-19T05:13:15.404880Z"
    }
   },
   "outputs": [
    {
     "data": {
      "application/vnd.jupyter.widget-view+json": {
       "model_id": "68cc7512a42d4c0a8d4c49bb95c01ff1",
       "version_major": 2,
       "version_minor": 0
      },
      "text/plain": [
       "DeckGLWidget(json_input='{\"initialViewState\": {\"bearing\": -15, \"latitude\": 37.565, \"longitude\": 126.986, \"maxZ…"
      ]
     },
     "metadata": {},
     "output_type": "display_data"
    }
   ],
   "source": [
    "layer.extruded = True\n",
    "layer.elevation_scale = 3 # default 1\n",
    "\n",
    "view_state.bearing = -15\n",
    "view_state.pitch = 45\n",
    "\n",
    "r = pdk.Deck(layers=[layer], initial_view_state=view_state)\n",
    "r.show()"
   ]
  },
  {
   "cell_type": "markdown",
   "metadata": {},
   "source": [
    "#### HexagonLayer"
   ]
  },
  {
   "cell_type": "markdown",
   "metadata": {},
   "source": [
    "위와 동일하지만 모양이 육각형(Hexagon) 입니다."
   ]
  },
  {
   "cell_type": "code",
   "execution_count": 57,
   "metadata": {
    "ExecuteTime": {
     "end_time": "2019-11-19T05:13:53.039156Z",
     "start_time": "2019-11-19T05:13:52.992433Z"
    }
   },
   "outputs": [
    {
     "data": {
      "application/vnd.jupyter.widget-view+json": {
       "model_id": "fb2bb81b6aba4441a089454a7630de6e",
       "version_major": 2,
       "version_minor": 0
      },
      "text/plain": [
       "DeckGLWidget(json_input='{\"initialViewState\": {\"bearing\": -15, \"latitude\": 37.565, \"longitude\": 126.986, \"maxZ…"
      ]
     },
     "metadata": {},
     "output_type": "display_data"
    }
   ],
   "source": [
    "layer.type = 'HexagonLayer'\n",
    "\n",
    "r = pdk.Deck(layers=[layer], initial_view_state=view_state)\n",
    "r.show()"
   ]
  },
  {
   "cell_type": "markdown",
   "metadata": {},
   "source": [
    "#### ScreenGridLayer"
   ]
  },
  {
   "cell_type": "markdown",
   "metadata": {
    "ExecuteTime": {
     "end_time": "2019-11-18T09:10:40.638993Z",
     "start_time": "2019-11-18T09:10:40.634861Z"
    }
   },
   "source": [
    "위와 동일하지만 모양이 정사각형 스크린(Sreen) 입니다."
   ]
  },
  {
   "cell_type": "code",
   "execution_count": 58,
   "metadata": {
    "ExecuteTime": {
     "end_time": "2019-11-19T05:14:16.069737Z",
     "start_time": "2019-11-19T05:14:16.017954Z"
    }
   },
   "outputs": [
    {
     "data": {
      "application/vnd.jupyter.widget-view+json": {
       "model_id": "bd293e1904a242d385e1a65c29bf1abc",
       "version_major": 2,
       "version_minor": 0
      },
      "text/plain": [
       "DeckGLWidget(json_input='{\"initialViewState\": {\"bearing\": 0, \"latitude\": 37.565, \"longitude\": 126.986, \"maxZoo…"
      ]
     },
     "metadata": {},
     "output_type": "display_data"
    }
   ],
   "source": [
    "layer.type = 'ScreenGridLayer'\n",
    "layer.cellSizePixels = 10 # default 100\n",
    "\n",
    "view_state.bearing = 0\n",
    "view_state.pitch = 0\n",
    "\n",
    "r = pdk.Deck(layers=[layer], initial_view_state=view_state)\n",
    "r.show()"
   ]
  },
  {
   "cell_type": "markdown",
   "metadata": {},
   "source": [
    "### TextLayer"
   ]
  },
  {
   "cell_type": "markdown",
   "metadata": {},
   "source": [
    "데이터 Point 좌표에 텍스트를 출력합니다.  \n",
    "다만, 한글은 렌더링 되지 않습니다.  \n",
    "공식문서에 따르면 only characters in the Ascii code range 32-128 값만 렌더링이 된다고 합니다."
   ]
  },
  {
   "cell_type": "code",
   "execution_count": 59,
   "metadata": {
    "ExecuteTime": {
     "end_time": "2019-11-19T05:14:40.388665Z",
     "start_time": "2019-11-19T05:14:40.385278Z"
    }
   },
   "outputs": [],
   "source": [
    "df['text'] = 'text'"
   ]
  },
  {
   "cell_type": "code",
   "execution_count": 60,
   "metadata": {
    "ExecuteTime": {
     "end_time": "2019-11-19T05:14:40.584562Z",
     "start_time": "2019-11-19T05:14:40.560266Z"
    }
   },
   "outputs": [
    {
     "data": {
      "application/vnd.jupyter.widget-view+json": {
       "model_id": "cd2c4ba5982f4dc3a2548c384a642d17",
       "version_major": 2,
       "version_minor": 0
      },
      "text/plain": [
       "DeckGLWidget(json_input='{\"initialViewState\": {\"bearing\": 0, \"latitude\": 37.565, \"longitude\": 126.986, \"maxZoo…"
      ]
     },
     "metadata": {},
     "output_type": "display_data"
    }
   ],
   "source": [
    "layer = pdk.Layer(\n",
    "    'TextLayer',\n",
    "    df[:100],\n",
    "    get_position='[lng, lat]',\n",
    "    get_text='text',\n",
    "    get_color='[0, 255, 255]',\n",
    "    font_family='consolas',\n",
    "    sizeScale=0.5,\n",
    "    pickable=True,\n",
    "    auto_highlight=True\n",
    ")\n",
    "\n",
    "center = [126.986, 37.565]\n",
    "view_state = pdk.ViewState(\n",
    "    longitude=center[0],\n",
    "    latitude=center[1],\n",
    "    zoom=10)\n",
    "\n",
    "r = pdk.Deck(layers=[layer], initial_view_state=view_state)\n",
    "r.show()"
   ]
  },
  {
   "cell_type": "markdown",
   "metadata": {},
   "source": [
    "### IconLayer"
   ]
  },
  {
   "cell_type": "markdown",
   "metadata": {},
   "source": [
    "데이터 Point 좌표에 아이콘을 출력합니다.  "
   ]
  },
  {
   "cell_type": "code",
   "execution_count": 21,
   "metadata": {
    "ExecuteTime": {
     "end_time": "2019-11-19T05:01:46.947765Z",
     "start_time": "2019-11-19T05:01:46.914464Z"
    }
   },
   "outputs": [
    {
     "data": {
      "application/vnd.jupyter.widget-view+json": {
       "model_id": "52b2bbdd19194766a8c1487bc92d3f8f",
       "version_major": 2,
       "version_minor": 0
      },
      "text/plain": [
       "DeckGLWidget(json_input='{\"initialViewState\": {\"bearing\": 0, \"latitude\": 37.565, \"longitude\": 126.986, \"maxZoo…"
      ]
     },
     "metadata": {},
     "output_type": "display_data"
    }
   ],
   "source": [
    "layer = pdk.Layer(\n",
    "    'IconLayer',\n",
    "    df[:1000],\n",
    "    get_position='[lng, lat]',\n",
    "    icon_atlas='data/toilet_icon.png',\n",
    "    get_icon='marker',\n",
    "    get_size=100,\n",
    "    pickable=True,\n",
    "    auto_highlight=True\n",
    ")\n",
    "\n",
    "center = [126.986, 37.565]\n",
    "view_state = pdk.ViewState(\n",
    "    longitude=center[0],\n",
    "    latitude=center[1],\n",
    "    zoom=10)\n",
    "\n",
    "r = pdk.Deck(layers=[layer], initial_view_state=view_state)\n",
    "r.show()"
   ]
  },
  {
   "cell_type": "markdown",
   "metadata": {},
   "source": [
    "## Points (Path or Polygon) 단위"
   ]
  },
  {
   "cell_type": "markdown",
   "metadata": {},
   "source": [
    "geometry 데이터가 2개 이상의 좌표가 들어간 데이터들에 대해서 다룹니다.  \n",
    "Points(Path) 단위의 레이어들은 geometry 정보가 OD, LineString(또는 Polygon, MultiPolygon) 단위의 데이터들입니다."
   ]
  },
  {
   "cell_type": "markdown",
   "metadata": {},
   "source": [
    "### OD layers"
   ]
  },
  {
   "cell_type": "markdown",
   "metadata": {},
   "source": [
    "OD Path 레이어는 Point(Origin)와 Point(Destination) 를 연결하는 레이어입니다.  \n",
    "\n",
    "먼저 샘플로 따릉이 OD 데이터를 사용해보겠습니다.  \n",
    "다음과 같이 출발지와 도착지의 위도, 경도를 가지고 있는 데이터 입니다."
   ]
  },
  {
   "cell_type": "code",
   "execution_count": 61,
   "metadata": {
    "ExecuteTime": {
     "end_time": "2019-11-19T05:15:34.408093Z",
     "start_time": "2019-11-19T05:15:34.387238Z"
    }
   },
   "outputs": [
    {
     "data": {
      "text/html": [
       "<div>\n",
       "<style scoped>\n",
       "    .dataframe tbody tr th:only-of-type {\n",
       "        vertical-align: middle;\n",
       "    }\n",
       "\n",
       "    .dataframe tbody tr th {\n",
       "        vertical-align: top;\n",
       "    }\n",
       "\n",
       "    .dataframe thead th {\n",
       "        text-align: right;\n",
       "    }\n",
       "</style>\n",
       "<table border=\"1\" class=\"dataframe\">\n",
       "  <thead>\n",
       "    <tr style=\"text-align: right;\">\n",
       "      <th></th>\n",
       "      <th>대여대여소명</th>\n",
       "      <th>반납대여소명</th>\n",
       "      <th>이용</th>\n",
       "      <th>이용시간(분)</th>\n",
       "      <th>이용거리(M)</th>\n",
       "      <th>대여대여소위도</th>\n",
       "      <th>대여대여소경도</th>\n",
       "      <th>대여대여소구명</th>\n",
       "      <th>반납대여소위도</th>\n",
       "      <th>반납대여소경도</th>\n",
       "      <th>반납대여소구명</th>\n",
       "    </tr>\n",
       "  </thead>\n",
       "  <tbody>\n",
       "    <tr>\n",
       "      <th>0</th>\n",
       "      <td>여의나루역 1번출구 앞</td>\n",
       "      <td>DMC산학협력연구센터 앞</td>\n",
       "      <td>1</td>\n",
       "      <td>47.000000</td>\n",
       "      <td>11160.000000</td>\n",
       "      <td>37.526989</td>\n",
       "      <td>126.932098</td>\n",
       "      <td>영등포구</td>\n",
       "      <td>37.575802</td>\n",
       "      <td>126.890739</td>\n",
       "      <td>마포구</td>\n",
       "    </tr>\n",
       "    <tr>\n",
       "      <th>1</th>\n",
       "      <td>여의나루역 1번출구 앞</td>\n",
       "      <td>IFC몰</td>\n",
       "      <td>3</td>\n",
       "      <td>46.333333</td>\n",
       "      <td>5853.333333</td>\n",
       "      <td>37.526989</td>\n",
       "      <td>126.932098</td>\n",
       "      <td>영등포구</td>\n",
       "      <td>37.526066</td>\n",
       "      <td>126.925537</td>\n",
       "      <td>영등포구</td>\n",
       "    </tr>\n",
       "    <tr>\n",
       "      <th>2</th>\n",
       "      <td>여의나루역 1번출구 앞</td>\n",
       "      <td>KBS 앞</td>\n",
       "      <td>2</td>\n",
       "      <td>13.000000</td>\n",
       "      <td>2110.000000</td>\n",
       "      <td>37.526989</td>\n",
       "      <td>126.932098</td>\n",
       "      <td>영등포구</td>\n",
       "      <td>37.524666</td>\n",
       "      <td>126.918022</td>\n",
       "      <td>영등포구</td>\n",
       "    </tr>\n",
       "    <tr>\n",
       "      <th>3</th>\n",
       "      <td>여의나루역 1번출구 앞</td>\n",
       "      <td>KT앞</td>\n",
       "      <td>8</td>\n",
       "      <td>20.250000</td>\n",
       "      <td>1692.500000</td>\n",
       "      <td>37.526989</td>\n",
       "      <td>126.932098</td>\n",
       "      <td>영등포구</td>\n",
       "      <td>37.521908</td>\n",
       "      <td>126.918953</td>\n",
       "      <td>영등포구</td>\n",
       "    </tr>\n",
       "    <tr>\n",
       "      <th>4</th>\n",
       "      <td>여의나루역 1번출구 앞</td>\n",
       "      <td>NH농협은행 앞</td>\n",
       "      <td>7</td>\n",
       "      <td>9.428571</td>\n",
       "      <td>1262.857143</td>\n",
       "      <td>37.526989</td>\n",
       "      <td>126.932098</td>\n",
       "      <td>영등포구</td>\n",
       "      <td>37.522079</td>\n",
       "      <td>126.930367</td>\n",
       "      <td>영등포구</td>\n",
       "    </tr>\n",
       "  </tbody>\n",
       "</table>\n",
       "</div>"
      ],
      "text/plain": [
       "          대여대여소명          반납대여소명  이용    이용시간(분)       이용거리(M)    대여대여소위도  \\\n",
       "0   여의나루역 1번출구 앞   DMC산학협력연구센터 앞   1  47.000000  11160.000000  37.526989   \n",
       "1   여의나루역 1번출구 앞            IFC몰   3  46.333333   5853.333333  37.526989   \n",
       "2   여의나루역 1번출구 앞           KBS 앞   2  13.000000   2110.000000  37.526989   \n",
       "3   여의나루역 1번출구 앞             KT앞   8  20.250000   1692.500000  37.526989   \n",
       "4   여의나루역 1번출구 앞        NH농협은행 앞   7   9.428571   1262.857143  37.526989   \n",
       "\n",
       "      대여대여소경도 대여대여소구명    반납대여소위도     반납대여소경도 반납대여소구명  \n",
       "0  126.932098    영등포구  37.575802  126.890739     마포구  \n",
       "1  126.932098    영등포구  37.526066  126.925537    영등포구  \n",
       "2  126.932098    영등포구  37.524666  126.918022    영등포구  \n",
       "3  126.932098    영등포구  37.521908  126.918953    영등포구  \n",
       "4  126.932098    영등포구  37.522079  126.930367    영등포구  "
      ]
     },
     "execution_count": 61,
     "metadata": {},
     "output_type": "execute_result"
    }
   ],
   "source": [
    "import pandas as pd\n",
    "\n",
    "df = pd.read_csv('data/seoul_bike_sample.csv')\n",
    "df.head()"
   ]
  },
  {
   "cell_type": "code",
   "execution_count": 62,
   "metadata": {
    "ExecuteTime": {
     "end_time": "2019-11-19T05:15:34.533570Z",
     "start_time": "2019-11-19T05:15:34.526120Z"
    }
   },
   "outputs": [],
   "source": [
    "df['정규화이용'] = df['이용'] / df['이용'].max()\n",
    "df['정규화이용시간'] = df['이용시간(분)'] / df['이용시간(분)'].max()"
   ]
  },
  {
   "cell_type": "markdown",
   "metadata": {},
   "source": [
    "#### LineLayer"
   ]
  },
  {
   "cell_type": "markdown",
   "metadata": {},
   "source": [
    "o-d 를 잇는 직선을 그립니다.\n",
    "\n",
    "이용 값이 클수록 선의 굵기를 굵게하고,  \n",
    "이용시간 값에 따라 색상을 다르게 해보겠습니다."
   ]
  },
  {
   "cell_type": "code",
   "execution_count": 64,
   "metadata": {
    "ExecuteTime": {
     "end_time": "2019-11-19T05:15:41.856340Z",
     "start_time": "2019-11-19T05:15:41.837739Z"
    }
   },
   "outputs": [
    {
     "data": {
      "application/vnd.jupyter.widget-view+json": {
       "model_id": "5dab1b8db7c747d191f7d60199580a67",
       "version_major": 2,
       "version_minor": 0
      },
      "text/plain": [
       "DeckGLWidget(json_input='{\"initialViewState\": {\"bearing\": 0, \"latitude\": 37.52698899999997, \"longitude\": 126.9…"
      ]
     },
     "metadata": {},
     "output_type": "display_data"
    }
   ],
   "source": [
    "layer = pdk.Layer(\n",
    "    'LineLayer',\n",
    "    df,\n",
    "    get_source_position='[대여대여소경도, 대여대여소위도]',\n",
    "    get_target_position='[반납대여소경도, 반납대여소위도]',\n",
    "    get_width='1 + 10 * 정규화_이용',\n",
    "    get_color='[255, 255 * 정규화이용시간, 120]',\n",
    "    pickable=True,\n",
    "    auto_highlight=True\n",
    ")\n",
    "\n",
    "# pydeck.data_utils.compute_view 는 Points 들의 경도, 위도를 리스트로 주면, 알아서 view_state 를 만들어줍니다.\n",
    "view_state = pdk.data_utils.compute_view(df[['대여대여소경도', '대여대여소위도']].values)\n",
    "view_state.zoom = 13\n",
    "\n",
    "r = pdk.Deck(layers=[layer], initial_view_state=view_state)\n",
    "r.show()"
   ]
  },
  {
   "cell_type": "markdown",
   "metadata": {},
   "source": [
    "#### ArcLayer"
   ]
  },
  {
   "cell_type": "markdown",
   "metadata": {},
   "source": [
    "o-d 를 잇는 곡선을 그립니다.\n",
    "\n",
    "이용 값이 클수록 선의 굵기를 굵게하고,\n",
    "origin 과 destination 에 따라 색을 다르게 해보겠습니다."
   ]
  },
  {
   "cell_type": "code",
   "execution_count": 66,
   "metadata": {
    "ExecuteTime": {
     "end_time": "2019-11-19T05:16:18.694750Z",
     "start_time": "2019-11-19T05:16:18.675607Z"
    }
   },
   "outputs": [
    {
     "data": {
      "application/vnd.jupyter.widget-view+json": {
       "model_id": "71c56c6013f94d64a087d9b902f64e36",
       "version_major": 2,
       "version_minor": 0
      },
      "text/plain": [
       "DeckGLWidget(json_input='{\"initialViewState\": {\"bearing\": -15, \"latitude\": 37.52698899999997, \"longitude\": 126…"
      ]
     },
     "metadata": {},
     "output_type": "display_data"
    }
   ],
   "source": [
    "layer = pdk.Layer(\n",
    "    'ArcLayer',\n",
    "    df,\n",
    "    get_source_position='[대여대여소경도, 대여대여소위도]',\n",
    "    get_target_position='[반납대여소경도, 반납대여소위도]',\n",
    "    get_width='1 + 10 * 정규화_이용',\n",
    "    get_source_color='[255, 255, 120]',\n",
    "    get_target_color='[255, 0, 0]',\n",
    "    pickable=True,\n",
    "    auto_highlight=True\n",
    ")\n",
    "\n",
    "# pydeck.data_utils.compute_view 는 Points 들의 경도, 위도를 리스트로 주면, 알아서 view_state 를 만들어줍니다.\n",
    "view_state = pdk.data_utils.compute_view(df[['대여대여소경도', '대여대여소위도']].values)\n",
    "view_state.zoom = 12\n",
    "view_state.bearing = -15\n",
    "view_state.pitch = 45\n",
    "\n",
    "r = pdk.Deck(layers=[layer], initial_view_state=view_state)\n",
    "r.show()"
   ]
  },
  {
   "cell_type": "markdown",
   "metadata": {},
   "source": [
    "### Path Layer"
   ]
  },
  {
   "cell_type": "markdown",
   "metadata": {},
   "source": [
    "Path layer 는 한 데이터가 2개 이상의 Point 들을 가지고 있습니다.  \n",
    "즉, Point 들을 차례대로 연결시켜 Path 를 그려냅니다.  \n",
    "\n",
    "먼저, 샘플 데이터로 사용할 서울시 특정 지역의 도로 데이터를 가져오겠습니다."
   ]
  },
  {
   "cell_type": "code",
   "execution_count": 67,
   "metadata": {
    "ExecuteTime": {
     "end_time": "2019-11-19T05:16:53.133709Z",
     "start_time": "2019-11-19T05:16:53.130955Z"
    }
   },
   "outputs": [],
   "source": [
    "geo_data = 'data/dongjak_road.geojson'"
   ]
  },
  {
   "cell_type": "markdown",
   "metadata": {},
   "source": [
    "이 데이터는 대략 다음과 같이 생겼습니다."
   ]
  },
  {
   "cell_type": "markdown",
   "metadata": {},
   "source": [
    "```\n",
    "{'type': 'FeatureCollection',\n",
    " 'crs': {'type': 'name',\n",
    "  'properties': {'name': 'urn:ogc:def:crs:OGC:1.3:CRS84'}},\n",
    " 'features': [\n",
    "  {'type': 'Feature',\n",
    "   'properties': {'도로명': '만양로8길', '도로길이': 53, '도로폭': 7},\n",
    "   'geometry': {'type': 'LineString',\n",
    "    'coordinates': [[126.94777636499998, 37.50835655899999],\n",
    "     [126.94782061399997, 37.50831506600002],\n",
    "     [126.94786056500004, 37.50822010600001],\n",
    "     [126.94791028600002, 37.50814785199998],\n",
    "     [126.94795418900003, 37.508099371000014],\n",
    "     [126.94805295399999, 37.508003151000025],\n",
    "     [126.94809408200001, 37.507960638999975]]}},\n",
    "  {'type': 'Feature',\n",
    "   'properties': {'도로명': '동작대로39가길', '도로길이': 450, '도로폭': 5},\n",
    "   'geometry': {'type': 'LineString',\n",
    "    'coordinates': [[126.98097487099994, 37.493643061],\n",
    "     [126.98093601699998, 37.49368160099999],\n",
    "     [126.98089868099999, 37.493756701999985],\n",
    "     [126.98072013800004, 37.493820518],\n",
    "     [126.98048858200002, 37.493856463999975],\n",
    "     [126.98042777299997, 37.49387360600002],\n",
    "     ....\n",
    "```                "
   ]
  },
  {
   "cell_type": "markdown",
   "metadata": {},
   "source": [
    "이를 `pandas.dataframe` 형태로 불러오겠습니다."
   ]
  },
  {
   "cell_type": "code",
   "execution_count": 68,
   "metadata": {
    "ExecuteTime": {
     "end_time": "2019-11-19T05:16:54.335695Z",
     "start_time": "2019-11-19T05:16:53.909453Z"
    },
    "scrolled": true
   },
   "outputs": [
    {
     "data": {
      "text/html": [
       "<div>\n",
       "<style scoped>\n",
       "    .dataframe tbody tr th:only-of-type {\n",
       "        vertical-align: middle;\n",
       "    }\n",
       "\n",
       "    .dataframe tbody tr th {\n",
       "        vertical-align: top;\n",
       "    }\n",
       "\n",
       "    .dataframe thead th {\n",
       "        text-align: right;\n",
       "    }\n",
       "</style>\n",
       "<table border=\"1\" class=\"dataframe\">\n",
       "  <thead>\n",
       "    <tr style=\"text-align: right;\">\n",
       "      <th></th>\n",
       "      <th>도로명</th>\n",
       "      <th>도로길이</th>\n",
       "      <th>도로폭</th>\n",
       "      <th>geometry</th>\n",
       "    </tr>\n",
       "  </thead>\n",
       "  <tbody>\n",
       "    <tr>\n",
       "      <th>0</th>\n",
       "      <td>만양로8길</td>\n",
       "      <td>53</td>\n",
       "      <td>7</td>\n",
       "      <td>[[126.94777636499998, 37.50835655899999], [126...</td>\n",
       "    </tr>\n",
       "    <tr>\n",
       "      <th>1</th>\n",
       "      <td>동작대로39가길</td>\n",
       "      <td>450</td>\n",
       "      <td>5</td>\n",
       "      <td>[[126.98097487099994, 37.493643061], [126.9809...</td>\n",
       "    </tr>\n",
       "    <tr>\n",
       "      <th>2</th>\n",
       "      <td>등용로6길</td>\n",
       "      <td>65</td>\n",
       "      <td>4</td>\n",
       "      <td>[[126.93344854600002, 37.50607434300002], [126...</td>\n",
       "    </tr>\n",
       "    <tr>\n",
       "      <th>3</th>\n",
       "      <td>여의대방로10가길</td>\n",
       "      <td>249</td>\n",
       "      <td>6</td>\n",
       "      <td>[[126.91484482600004, 37.493450825000025], [12...</td>\n",
       "    </tr>\n",
       "    <tr>\n",
       "      <th>4</th>\n",
       "      <td>국사봉1나길</td>\n",
       "      <td>147</td>\n",
       "      <td>4</td>\n",
       "      <td>[[126.93478510399996, 37.49486913700002], [126...</td>\n",
       "    </tr>\n",
       "  </tbody>\n",
       "</table>\n",
       "</div>"
      ],
      "text/plain": [
       "         도로명  도로길이  도로폭                                           geometry\n",
       "0      만양로8길    53    7  [[126.94777636499998, 37.50835655899999], [126...\n",
       "1   동작대로39가길   450    5  [[126.98097487099994, 37.493643061], [126.9809...\n",
       "2      등용로6길    65    4  [[126.93344854600002, 37.50607434300002], [126...\n",
       "3  여의대방로10가길   249    6  [[126.91484482600004, 37.493450825000025], [12...\n",
       "4     국사봉1나길   147    4  [[126.93478510399996, 37.49486913700002], [126..."
      ]
     },
     "execution_count": 68,
     "metadata": {},
     "output_type": "execute_result"
    }
   ],
   "source": [
    "import geopandas as gpd\n",
    "import shapely\n",
    "\n",
    "# Shapely 형태의 데이터를 받아 내부 좌표들을 List안에 반환합니다.\n",
    "def line_string_to_coordinates(line_string):\n",
    "    if isinstance(line_string, shapely.geometry.linestring.LineString):\n",
    "        lon, lat = line_string.xy\n",
    "        return [[x, y] for x, y in zip(lon, lat)]\n",
    "    elif isinstance(line_string, shapely.geometry.multilinestring.MultiLineString):\n",
    "        ret = []\n",
    "        for i in range(len(line_string)):\n",
    "            lon, lat = line_string[i].xy\n",
    "            for x, y in zip(lon, lat):\n",
    "                ret.append([x, y])\n",
    "        return ret\n",
    "\n",
    "df = gpd.read_file(geo_data)\n",
    "df['geometry'] = df['geometry'].apply(line_string_to_coordinates)\n",
    "df = pd.DataFrame(df) # geopanadas 가 아닌 pandas 의 데이터프레임으로 꼭 바꿔줘야 합니다.\n",
    "df.head()"
   ]
  },
  {
   "cell_type": "markdown",
   "metadata": {},
   "source": [
    "이제, 도로폭에 따라 색과 굵기를 달리하여 시각화 해보겠습니다."
   ]
  },
  {
   "cell_type": "code",
   "execution_count": 69,
   "metadata": {
    "ExecuteTime": {
     "end_time": "2019-11-19T05:17:03.464330Z",
     "start_time": "2019-11-19T05:17:03.460019Z"
    }
   },
   "outputs": [],
   "source": [
    "df['정규화도로폭'] = df['도로폭'] / df['도로폭'].max()"
   ]
  },
  {
   "cell_type": "code",
   "execution_count": 70,
   "metadata": {
    "ExecuteTime": {
     "end_time": "2019-11-19T05:17:03.733534Z",
     "start_time": "2019-11-19T05:17:03.614964Z"
    }
   },
   "outputs": [
    {
     "data": {
      "application/vnd.jupyter.widget-view+json": {
       "model_id": "f06ac773283f42c1a9c93b60fd0a8376",
       "version_major": 2,
       "version_minor": 0
      },
      "text/plain": [
       "DeckGLWidget(json_input='{\"initialViewState\": {\"bearing\": 0, \"latitude\": 37.495, \"longitude\": 126.95, \"maxZoom…"
      ]
     },
     "metadata": {},
     "output_type": "display_data"
    }
   ],
   "source": [
    "layer = pdk.Layer(\n",
    "    'PathLayer',\n",
    "    df,\n",
    "    get_path='geometry',\n",
    "    get_width='도로폭',\n",
    "    get_color='[255, 255 * 정규화도로폭, 120]',\n",
    "    pickable=True,\n",
    "    auto_highlight=True\n",
    ")\n",
    "\n",
    "center = [126.950, 37.495]\n",
    "view_state = pdk.ViewState(\n",
    "    longitude=center[0],\n",
    "    latitude=center[1],\n",
    "    zoom=12)\n",
    "\n",
    "r = pdk.Deck(layers=[layer], initial_view_state=view_state)\n",
    "r.show()"
   ]
  },
  {
   "cell_type": "markdown",
   "metadata": {},
   "source": [
    "### Trips Layer"
   ]
  },
  {
   "cell_type": "markdown",
   "metadata": {},
   "source": [
    "Trips Layer 는 Path Layer 와 동일하되 시간의 개념이 들어갑니다.  \n",
    "즉, `[시간지점, 위도, 경도]` 를 담고 있는 데이터를 입력으로 주면 시간에 따라 어떻게 움직이는지 시각화 해줍니다.  \n",
    "\n",
    "쥬피터에서 구현이 다소 복잡할 것 같아, 여기서는 이런게 있다는 정로도만 남겨두겠습니다.  \n",
    "어떤건지 보고싶으신 분은 [여기서](https://deck.gl/#/documentation/deckgl-api-reference/layers/trips-layer) 확인하실 수 있습니다."
   ]
  },
  {
   "cell_type": "markdown",
   "metadata": {},
   "source": [
    "# 맵 스타일링"
   ]
  },
  {
   "cell_type": "markdown",
   "metadata": {},
   "source": [
    "## 레이어별 스타일링과 파라미터"
   ]
  },
  {
   "cell_type": "markdown",
   "metadata": {},
   "source": [
    "기본적으로 맵 스타일링은, 각 레이어별로 해야합니다.  \n",
    "위에서 보셨다 싶이, 색상은 항상 rgba (0~255값) 으로 해야하고,  \n",
    "그 외 파라미터들은 레이어마다 다릅니다.  \n",
    "\n",
    "각 레이어별 정확한 파라미터들은 [deck.gl 공식 도큐먼트](https://deck.gl/#/documentation/deckgl-api-reference/layers/icon-layer)에서 확인하실 수 있습니다.  \n",
    "다만, 도큐먼트는 자바스크립트 기준으로 쓰인거라 파이썬에서는 조금 다릅니다.\n",
    "\n",
    "- camelCased 이 아닌 snake_cased 으로 바꿔야 합니다.\n",
    "  - 예를 들어, deck.gl 에서 `getPosition` 이라는 파라미터는 pydeck 에서는 `get_position` 으로 쓰입니다.\n",
    "  - 자바스크립트에서는 변수규칙을 camelCased 쓰는데, 파이썬에서는 snake_cased 규칙을 써서 그렇습니다.\n",
    "- 레이어 타입 이름은 deck.gl 과 동일합니다.\n",
    "  - 예를 들어, deck.gl 에서 'ArcLayer' 는 pydeck 에서도 'ArcLayer' 입니다."
   ]
  },
  {
   "cell_type": "markdown",
   "metadata": {
    "ExecuteTime": {
     "end_time": "2019-11-19T03:49:28.471134Z",
     "start_time": "2019-11-19T03:49:28.466829Z"
    }
   },
   "source": [
    "## 베이스맵"
   ]
  },
  {
   "cell_type": "markdown",
   "metadata": {},
   "source": [
    "`pdk.Deck` 클래스 내 `map_style` 값을 다르게 줌으로써 수정이 가능합니다.  \n",
    "미리 지정된 값들은 다음이 있습니다.\n",
    "\n",
    "```\n",
    "- mapbox://styles/mapbox/streets-v11\n",
    "- mapbox://styles/mapbox/outdoors-v11\n",
    "- mapbox://styles/mapbox/light-v10\n",
    "- mapbox://styles/mapbox/dark-v10\n",
    "- mapbox://styles/mapbox/satellite-v9\n",
    "- mapbox://styles/mapbox/satellite-streets-v11\n",
    "- mapbox://styles/mapbox/navigation-preview-day-v4\n",
    "- mapbox://styles/mapbox/navigation-preview-night-v4\n",
    "- mapbox://styles/mapbox/navigation-guidance-day-v4\n",
    "- mapbox://styles/mapbox/navigation-guidance-night-v4\n",
    "```\n",
    "\n",
    "예를 들어, `mapbox://styles/mapbox/outdoors-v11` 로 값을 주면 다음과 같이 바뀝니다."
   ]
  },
  {
   "cell_type": "code",
   "execution_count": 71,
   "metadata": {
    "ExecuteTime": {
     "end_time": "2019-11-19T05:17:43.770241Z",
     "start_time": "2019-11-19T05:17:43.758653Z"
    }
   },
   "outputs": [
    {
     "data": {
      "application/vnd.jupyter.widget-view+json": {
       "model_id": "a5764f2f8d3a4d4ead3e964855078cfd",
       "version_major": 2,
       "version_minor": 0
      },
      "text/plain": [
       "DeckGLWidget(json_input='{\"initialViewState\": {\"bearing\": 0, \"latitude\": 37.495, \"longitude\": 126.95, \"maxZoom…"
      ]
     },
     "metadata": {},
     "output_type": "display_data"
    }
   ],
   "source": [
    "center = [126.950, 37.495]\n",
    "view_state = pdk.ViewState(\n",
    "    longitude=center[0],\n",
    "    latitude=center[1],\n",
    "    zoom=12)\n",
    "\n",
    "r = pdk.Deck(layers=[], \n",
    "             initial_view_state=view_state,\n",
    "             map_style='mapbox://styles/mapbox/outdoors-v11')\n",
    "r.show()"
   ]
  },
  {
   "cell_type": "markdown",
   "metadata": {},
   "source": [
    "# 마무리"
   ]
  },
  {
   "cell_type": "markdown",
   "metadata": {},
   "source": [
    "pydeck 에서 다루는 레이어는 얼추 대부분 다룬 듯 합니다.  \n",
    "세세한 스타일링 설정은 제가 모두 설명 못드릴만큼, pydeck 아니 deck.gl 자체가 조금 내용이 있습니다.  \n",
    "하지만, 위 정도의 설명이라면 당장 필요한 레이어는 써먹을 정도라고 생각이 드네요.  \n",
    "더 궁금하신 분들은 pydeck github 나 deck.gl 공식 사이트에서 추가적으로 확인하시면 좋을 것 같습니다.  \n",
    "\n",
    "\n",
    "드디어 pydeck 에 대한 설명이 끝났습니다.  \n",
    "이 외에 공간 데이터 시각툴로 Kepler.gl 도 있습니다.  \n",
    "이 역시 Uber 팀에서 만드는 매우 파워풀한 도구인데, Mapbox studio 와 비슷합니다. (오히려 상위 호환느낌 입니다.)  \n",
    "따로 포스팅하지는 않고, 이런게 있다 정도만 소개해드립니다.  \n",
    "코드보다 GUI 가 더 편하신 분들은 검색해서 찾아보시길 추천드립니다.\n",
    "\n",
    "이 외에 공간데이터 시각화에 지속적으로 관심있으신 분들은 아래 블로그들을 구독하길 추천드립니다.  \n",
    "공간 데이터 분석을 통해, 로컬 인사이트(Location Inteligence) 를 얻는 과정들이 종종 포스팅되고 있는 블로그들입니다.\n",
    "\n",
    "- Uber의 visualization 팀 블로그 (https://medium.com/vis-gl)\n",
    "- Mapbox 사 블로그 (https://medium.com/@Mapbox)\n",
    "- Carto 사 블로그 (https://medium.com/@carto)"
   ]
  }
 ],
 "metadata": {
  "kernelspec": {
   "display_name": "Python 3",
   "language": "python",
   "name": "python3"
  },
  "language_info": {
   "codemirror_mode": {
    "name": "ipython",
    "version": 3
   },
   "file_extension": ".py",
   "mimetype": "text/x-python",
   "name": "python",
   "nbconvert_exporter": "python",
   "pygments_lexer": "ipython3",
   "version": "3.6.8"
  },
  "toc": {
   "base_numbering": 1,
   "nav_menu": {},
   "number_sections": true,
   "sideBar": true,
   "skip_h1_title": false,
   "title_cell": "Table of Contents",
   "title_sidebar": "Contents",
   "toc_cell": false,
   "toc_position": {
    "height": "calc(100% - 180px)",
    "left": "10px",
    "top": "150px",
    "width": "336px"
   },
   "toc_section_display": true,
   "toc_window_display": true
  }
 },
 "nbformat": 4,
 "nbformat_minor": 2
}
