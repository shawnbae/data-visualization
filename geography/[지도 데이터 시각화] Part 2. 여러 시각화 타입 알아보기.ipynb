{
 "cells": [
  {
   "cell_type": "markdown",
   "metadata": {},
   "source": [
    "이번 포스팅에서는, 지도 데이터를 시각화할 때 어떤 타입으로 시각화할 수 있는지 그 종류를 살펴보겠습니다.  \n",
    "이 타입이 정해진 것은 아니나, 대체로 많이 써오던 타입은 이름이 보통 정해져있습니다.  \n",
    "따라서, 기본적인 시각화 형태부터 하나씩 살펴본 후, 이후 조금 특이한 타입도 살펴보겠습니다."
   ]
  },
  {
   "cell_type": "markdown",
   "metadata": {},
   "source": [
    "# Scatter (Point)"
   ]
  },
  {
   "cell_type": "markdown",
   "metadata": {},
   "source": [
    "![](https://user-images.githubusercontent.com/11286381/36511755-b58e6cc8-171c-11e8-9385-e90c3795be14.png)"
   ]
  },
  {
   "cell_type": "markdown",
   "metadata": {},
   "source": [
    "어떤 라이브러리에서는 Point plot 으로도 불립니다.  \n",
    "말 그대로 Point 단위로 데이터들을 지도에 찍습니다.  \n",
    "데이터는 Point 단위로 geometry 정보를 갖고 있어야 합니다.\n",
    "\n",
    "예를 들어, 각 데이터가 범죄가 발생한 곳의 위치 데이터라면, 주로 어디서 발생하는지 한 눈에 알 수 있습니다.  \n",
    "이처럼, 전반적인 위치 데이터의 구체적인 분포를 보고 싶을 때 사용합니다."
   ]
  },
  {
   "cell_type": "markdown",
   "metadata": {},
   "source": [
    "# Line (Path)"
   ]
  },
  {
   "cell_type": "markdown",
   "metadata": {},
   "source": [
    "![](https://www.bjoern-hartmann.de/img/viz_kepler_stadtrad/routes_north_hamburg_3D-min.png)"
   ]
  },
  {
   "cell_type": "markdown",
   "metadata": {},
   "source": [
    "말 그대로, 직선을 시각화하는 형태입니다.  \n",
    "각 데이터의 geometry 는 보통 2개의 Point으로 구성된 Line 입니다.  \n",
    "3개 이상의 Point 로 구성되어 Line 의 모음으로 구성된 경우도 있습니다. (이런 경우는 Path 라고 보통 부릅니다.)\n",
    "\n",
    "일반적으로 위 그림처럼 도로나, 경로 등을 표현하는데 사용합니다.  \n",
    "어떤 도로가 이용률이 높은지, 버스 노선이 중복되는지 등을 파악하려면 이 타입을 사용하시면 됩니다."
   ]
  },
  {
   "cell_type": "markdown",
   "metadata": {},
   "source": [
    "# Arc"
   ]
  },
  {
   "cell_type": "markdown",
   "metadata": {},
   "source": [
    "![](https://uber.github.io/deck.gl/showcases/gallery/images/arc-layer.png)"
   ]
  },
  {
   "cell_type": "markdown",
   "metadata": {},
   "source": [
    "Line 과 다르게 곡선입니다.  \n",
    "보통 OD(Origin - Destination) 데이터를 시각화 할 때 사용합니다.  \n",
    "즉, 각 데이터의 geometry는 2개의 Point (시작점과 끝점) 로 구성되어있습니다.  \n",
    "\n",
    "사용하는 가장 대표적인 예는 항공 노선 시각화를 떠올리시면 됩니다."
   ]
  },
  {
   "cell_type": "markdown",
   "metadata": {
    "ExecuteTime": {
     "end_time": "2019-11-06T07:02:40.102410Z",
     "start_time": "2019-11-06T07:02:40.098928Z"
    }
   },
   "source": [
    "# Choropleth"
   ]
  },
  {
   "cell_type": "markdown",
   "metadata": {},
   "source": [
    "![](https://miro.medium.com/max/804/1*z8i2TbVzNUhBjgugtPTlnQ.png)"
   ]
  },
  {
   "cell_type": "markdown",
   "metadata": {},
   "source": [
    "Polygon 단위로 데이터를 지도에 찍습니다.  \n",
    "데이터는 Polygon 단위로 geometry 정보를 갖고 있어야 합니다.\n",
    "\n",
    "예를 들어, 각 지역구 별로 인구량, 범죄율 등을 한 눈에 파악할 수 있습니다.  \n",
    "Polygon 은 지역구 처럼, 보통 로컬 특성을 반영하여 설계하는게 일반적인 것 같습니다.  \n",
    "이 역시 전반적인 데이터 분포를 Polygon 을 경계로 보고싶을 때 사용합니다."
   ]
  },
  {
   "cell_type": "markdown",
   "metadata": {},
   "source": [
    "# Heatmap"
   ]
  },
  {
   "cell_type": "markdown",
   "metadata": {},
   "source": [
    "![](https://cdn.shortpixel.ai/client/to_webp,q_glossy,ret_img/https://www.dataquest.io/wp-content/uploads/2016/03/pandas-json-python.jpg)"
   ]
  },
  {
   "cell_type": "markdown",
   "metadata": {},
   "source": [
    "히트맵이란 열을 뜻하는 히트(heat)와 지도를 뜻하는 맵(map)을 결합시킨 단어입니다.  \n",
    "색상으로 표현할 수 있는 다양한 정보를 열분포 형태로 출력하는 것이 특징입니다.\n",
    "\n",
    "데이터는 Point 단위여야 합니다.  \n",
    "Scatter plot 이 구체적인 분포를 보여준다면, Heatmap 은 밀도나, 추세를 보여줍니다.  \n",
    "보통 밀도가 높은 곳은 빨간색으로, 낮은 곳은 파란색으로 표시합니다.  \n",
    "예를 들어, 만약 범죄 발생 빈도가 높은 곳을 한 눈에 보고 싶다면 Scatter plot 보다는 Heatmap 을 보여주는게 더 직관적일 겁니다.  "
   ]
  },
  {
   "cell_type": "markdown",
   "metadata": {},
   "source": [
    "# Grid"
   ]
  },
  {
   "cell_type": "markdown",
   "metadata": {},
   "source": [
    "Grid 는 지도를 일정한 모양으로 잘라내어, 해당 지역성의 데이터를 대표할 수 있도록 시각화하는 형태입니다.  \n",
    "이 때 이 모양을 어떻게 잘라내느냐에 따라 종류가 다양합니다.  \n",
    "어떻게 자르냐에 따라 다양하지만, 다음 모양들이 대표적입니다."
   ]
  },
  {
   "cell_type": "markdown",
   "metadata": {},
   "source": [
    "### Hexagon"
   ]
  },
  {
   "cell_type": "markdown",
   "metadata": {},
   "source": [
    "![](https://fireship.io/lessons/deckgl-google-maps-tutorial/img/deckgl-hex-layer.png)"
   ]
  },
  {
   "cell_type": "markdown",
   "metadata": {},
   "source": [
    "### Screen"
   ]
  },
  {
   "cell_type": "markdown",
   "metadata": {},
   "source": [
    "![](https://webkid.io/content/images/old/making-maps-with-react/header.png)"
   ]
  },
  {
   "cell_type": "markdown",
   "metadata": {},
   "source": [
    "지역성을 나타내는 Polygon 이 없을 때, 혹은 일정한 기준으로 데이터 분포를 보고싶을 때 주로 사용 됩니다."
   ]
  },
  {
   "cell_type": "markdown",
   "metadata": {},
   "source": [
    "이 외에도 여러 지도 데이터 시각화 방법이 있겠지만, 가장 일반적인 것만 소개해봤습니다.  \n",
    "다음 포스팅부터는 직접 시각화 해보며, 라이브러리별로 어떤 기능들이 있나 살펴보겠습니다."
   ]
  }
 ],
 "metadata": {
  "kernelspec": {
   "display_name": "Python 3",
   "language": "python",
   "name": "python3"
  },
  "language_info": {
   "codemirror_mode": {
    "name": "ipython",
    "version": 3
   },
   "file_extension": ".py",
   "mimetype": "text/x-python",
   "name": "python",
   "nbconvert_exporter": "python",
   "pygments_lexer": "ipython3",
   "version": "3.6.8"
  },
  "toc": {
   "base_numbering": 1,
   "nav_menu": {},
   "number_sections": true,
   "sideBar": true,
   "skip_h1_title": false,
   "title_cell": "Table of Contents",
   "title_sidebar": "Contents",
   "toc_cell": false,
   "toc_position": {},
   "toc_section_display": true,
   "toc_window_display": false
  }
 },
 "nbformat": 4,
 "nbformat_minor": 2
}
