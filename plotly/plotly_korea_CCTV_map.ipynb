{
 "cells": [
  {
   "cell_type": "code",
   "execution_count": 1,
   "metadata": {},
   "outputs": [],
   "source": [
    "import warnings\n",
    "warnings.filterwarnings(action='ignore') #경고 메시지 무시"
   ]
  },
  {
   "cell_type": "code",
   "execution_count": 19,
   "metadata": {},
   "outputs": [],
   "source": [
    "import pandas as pd\n",
    "import geopandas as gpd\n",
    "import fiona"
   ]
  },
  {
   "cell_type": "code",
   "execution_count": 25,
   "metadata": {},
   "outputs": [
    {
     "data": {
      "text/html": [
       "<div>\n",
       "<style scoped>\n",
       "    .dataframe tbody tr th:only-of-type {\n",
       "        vertical-align: middle;\n",
       "    }\n",
       "\n",
       "    .dataframe tbody tr th {\n",
       "        vertical-align: top;\n",
       "    }\n",
       "\n",
       "    .dataframe thead th {\n",
       "        text-align: right;\n",
       "    }\n",
       "</style>\n",
       "<table border=\"1\" class=\"dataframe\">\n",
       "  <thead>\n",
       "    <tr style=\"text-align: right;\">\n",
       "      <th></th>\n",
       "      <th>admin</th>\n",
       "      <th>addr1</th>\n",
       "      <th>lat</th>\n",
       "      <th>lon</th>\n",
       "    </tr>\n",
       "  </thead>\n",
       "  <tbody>\n",
       "    <tr>\n",
       "      <th>0</th>\n",
       "      <td>경상남도 김해시청</td>\n",
       "      <td>NaN</td>\n",
       "      <td>35.249247</td>\n",
       "      <td>128.871639</td>\n",
       "    </tr>\n",
       "    <tr>\n",
       "      <th>1</th>\n",
       "      <td>경상남도 김해시청</td>\n",
       "      <td>NaN</td>\n",
       "      <td>35.247411</td>\n",
       "      <td>128.873605</td>\n",
       "    </tr>\n",
       "    <tr>\n",
       "      <th>2</th>\n",
       "      <td>경상남도 김해시청</td>\n",
       "      <td>NaN</td>\n",
       "      <td>35.261728</td>\n",
       "      <td>128.874144</td>\n",
       "    </tr>\n",
       "    <tr>\n",
       "      <th>3</th>\n",
       "      <td>경상남도 김해시청</td>\n",
       "      <td>NaN</td>\n",
       "      <td>35.247076</td>\n",
       "      <td>128.872461</td>\n",
       "    </tr>\n",
       "    <tr>\n",
       "      <th>4</th>\n",
       "      <td>경상남도 김해시청</td>\n",
       "      <td>NaN</td>\n",
       "      <td>35.241185</td>\n",
       "      <td>128.877334</td>\n",
       "    </tr>\n",
       "  </tbody>\n",
       "</table>\n",
       "</div>"
      ],
      "text/plain": [
       "       admin addr1        lat         lon\n",
       "0  경상남도 김해시청   NaN  35.249247  128.871639\n",
       "1  경상남도 김해시청   NaN  35.247411  128.873605\n",
       "2  경상남도 김해시청   NaN  35.261728  128.874144\n",
       "3  경상남도 김해시청   NaN  35.247076  128.872461\n",
       "4  경상남도 김해시청   NaN  35.241185  128.877334"
      ]
     },
     "execution_count": 25,
     "metadata": {},
     "output_type": "execute_result"
    }
   ],
   "source": [
    "# CCTV CSV 로딩\n",
    "df_cctv = pd.read_csv('../dataset/전국CCTV표준데이터.csv', index_col=None, header=0, \n",
    "                 names=['admin', 'addr1', 'addr2', 'usetype', 'cnt', 'pixel', 'azimuth', 'keep', 'inst_date', 'tel', 'lat', 'lon', 'up_date', 'offer_cd', 'offer'], \n",
    "                 usecols=['admin', 'addr1', 'lat', 'lon'], \n",
    "                 dtype={'admin':object, 'addr1':object, 'lat':float, 'lon':float},\n",
    "                 encoding=\"EUC-KR\")\n",
    "df_cctv.head()"
   ]
  },
  {
   "cell_type": "code",
   "execution_count": 28,
   "metadata": {},
   "outputs": [],
   "source": [
    "# CCTV CSV 에서 서울시 데이터만 추출\n",
    "df_cctv[['lat', 'lon']].dropna() #좌표값 없는 데이터 제거\n",
    "df_cctv2 = df_cctv[df_cctv['addr1'].str.contains('서울특별시')==True] "
   ]
  },
  {
   "cell_type": "code",
   "execution_count": 30,
   "metadata": {},
   "outputs": [
    {
     "data": {
      "text/plain": [
       "<GeometryArray>\n",
       "[<shapely.geometry.point.Point object at 0x0000027736D4F748>,\n",
       " <shapely.geometry.point.Point object at 0x00000277375DC4C8>,\n",
       " <shapely.geometry.point.Point object at 0x00000277364A5BC8>]\n",
       "Length: 3, dtype: geometry"
      ]
     },
     "execution_count": 30,
     "metadata": {},
     "output_type": "execute_result"
    }
   ],
   "source": [
    "# 서울시 CCTV 공간데이터화\n",
    "geom_cctv = gpd.points_from_xy(df_cctv2.lon, df_cctv2.lat)\n",
    "geom_cctv[0:3]"
   ]
  },
  {
   "cell_type": "code",
   "execution_count": 31,
   "metadata": {},
   "outputs": [
    {
     "data": {
      "text/html": [
       "<div>\n",
       "<style scoped>\n",
       "    .dataframe tbody tr th:only-of-type {\n",
       "        vertical-align: middle;\n",
       "    }\n",
       "\n",
       "    .dataframe tbody tr th {\n",
       "        vertical-align: top;\n",
       "    }\n",
       "\n",
       "    .dataframe thead th {\n",
       "        text-align: right;\n",
       "    }\n",
       "</style>\n",
       "<table border=\"1\" class=\"dataframe\">\n",
       "  <thead>\n",
       "    <tr style=\"text-align: right;\">\n",
       "      <th></th>\n",
       "      <th>admin</th>\n",
       "      <th>addr1</th>\n",
       "      <th>geometry</th>\n",
       "    </tr>\n",
       "  </thead>\n",
       "  <tbody>\n",
       "    <tr>\n",
       "      <th>56</th>\n",
       "      <td>서울특별시 성북구청</td>\n",
       "      <td>서울특별시 성북구 돌곶이로34길 20-19</td>\n",
       "      <td>POINT (127.05113 37.61606)</td>\n",
       "    </tr>\n",
       "    <tr>\n",
       "      <th>57</th>\n",
       "      <td>서울특별시 성북구청</td>\n",
       "      <td>서울특별시 성북구 장위로33길 45</td>\n",
       "      <td>POINT (127.05119 37.61485)</td>\n",
       "    </tr>\n",
       "    <tr>\n",
       "      <th>58</th>\n",
       "      <td>서울특별시 성북구청</td>\n",
       "      <td>서울특별시 성북구 장월로5길 40</td>\n",
       "      <td>POINT (127.04720 37.60996)</td>\n",
       "    </tr>\n",
       "    <tr>\n",
       "      <th>59</th>\n",
       "      <td>서울특별시 성북구청</td>\n",
       "      <td>서울특별시 성북구 한천로86길 18</td>\n",
       "      <td>POINT (127.05986 37.61469)</td>\n",
       "    </tr>\n",
       "    <tr>\n",
       "      <th>60</th>\n",
       "      <td>서울특별시 성북구청</td>\n",
       "      <td>서울특별시 성북구 보국문로29길 51</td>\n",
       "      <td>POINT (127.00161 37.61565)</td>\n",
       "    </tr>\n",
       "  </tbody>\n",
       "</table>\n",
       "</div>"
      ],
      "text/plain": [
       "         admin                    addr1                    geometry\n",
       "56  서울특별시 성북구청  서울특별시 성북구 돌곶이로34길 20-19  POINT (127.05113 37.61606)\n",
       "57  서울특별시 성북구청      서울특별시 성북구 장위로33길 45  POINT (127.05119 37.61485)\n",
       "58  서울특별시 성북구청       서울특별시 성북구 장월로5길 40  POINT (127.04720 37.60996)\n",
       "59  서울특별시 성북구청      서울특별시 성북구 한천로86길 18  POINT (127.05986 37.61469)\n",
       "60  서울특별시 성북구청     서울특별시 성북구 보국문로29길 51  POINT (127.00161 37.61565)"
      ]
     },
     "execution_count": 31,
     "metadata": {},
     "output_type": "execute_result"
    }
   ],
   "source": [
    "# 좌표계 정의/변환용 라이브러리\n",
    "import pyproj\n",
    "from fiona.crs import from_epsg\n",
    "coulumns = ['admin', 'addr1']\n",
    "gdf_cctv = gpd.GeoDataFrame(df_cctv2[coulumns], geometry=geom_cctv, crs=from_epsg(4326))\n",
    "#df_cctv_gdf.info()\n",
    "gdf_cctv.head()"
   ]
  },
  {
   "cell_type": "code",
   "execution_count": 32,
   "metadata": {},
   "outputs": [
    {
     "data": {
      "text/plain": [
       "<AxesSubplot:>"
      ]
     },
     "execution_count": 32,
     "metadata": {},
     "output_type": "execute_result"
    },
    {
     "data": {
      "image/png": "[encoded data removed]",
      "text/plain": [
       "<Figure size 432x288 with 1 Axes>"
      ]
     },
     "metadata": {
      "needs_background": "light"
     },
     "output_type": "display_data"
    }
   ],
   "source": [
    "gdf_cctv2 = gdf_cctv.to_crs(epsg=3857)  #좌표계를 epsg 3857로 변환\n",
    "gdf_cctv2.plot(color='gray')"
   ]
  },
  {
   "cell_type": "code",
   "execution_count": 33,
   "metadata": {},
   "outputs": [],
   "source": [
    "#강남구 CCTV만 한번 더 추출\n",
    "gdf_cctv3 = gdf_cctv2[gdf_cctv2['admin'].isin(['서울특별시 강남구청'])]"
   ]
  },
  {
   "cell_type": "code",
   "execution_count": 34,
   "metadata": {},
   "outputs": [
    {
     "data": {
      "text/plain": [
       "<AxesSubplot:>"
      ]
     },
     "execution_count": 34,
     "metadata": {},
     "output_type": "execute_result"
    },
    {
     "data": {
      "image/png": "[encoded data removed]",
      "text/plain": [
       "<Figure size 432x288 with 1 Axes>"
      ]
     },
     "metadata": {
      "needs_background": "light"
     },
     "output_type": "display_data"
    }
   ],
   "source": [
    "gdf_cctv3.plot()"
   ]
  },
  {
   "cell_type": "code",
   "execution_count": null,
   "metadata": {},
   "outputs": [],
   "source": []
  }
 ],
 "metadata": {
  "kernelspec": {
   "display_name": "Python 3",
   "language": "python",
   "name": "python3"
  },
  "language_info": {
   "codemirror_mode": {
    "name": "ipython",
    "version": 3
   },
   "file_extension": ".py",
   "mimetype": "text/x-python",
   "name": "python",
   "nbconvert_exporter": "python",
   "pygments_lexer": "ipython3",
   "version": "3.7.9"
  },
  "toc": {
   "base_numbering": 1,
   "nav_menu": {},
   "number_sections": true,
   "sideBar": true,
   "skip_h1_title": false,
   "title_cell": "Table of Contents",
   "title_sidebar": "Contents",
   "toc_cell": false,
   "toc_position": {},
   "toc_section_display": true,
   "toc_window_display": false
  },
  "varInspector": {
   "cols": {
    "lenName": 16,
    "lenType": 16,
    "lenVar": 40
   },
   "kernels_config": {
    "python": {
     "delete_cmd_postfix": "",
     "delete_cmd_prefix": "del ",
     "library": "var_list.py",
     "varRefreshCmd": "print(var_dic_list())"
    },
    "r": {
     "delete_cmd_postfix": ") ",
     "delete_cmd_prefix": "rm(",
     "library": "var_list.r",
     "varRefreshCmd": "cat(var_dic_list()) "
    }
   },
   "types_to_exclude": [
    "module",
    "function",
    "builtin_function_or_method",
    "instance",
    "_Feature"
   ],
   "window_display": false
  }
 },
 "nbformat": 4,
 "nbformat_minor": 4
}
