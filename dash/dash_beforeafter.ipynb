{
 "cells": [
  {
   "cell_type": "code",
   "execution_count": 2,
   "metadata": {
    "collapsed": true
   },
   "outputs": [
    {
     "data": {
      "text/plain": "<IPython.lib.display.IFrame at 0x2c97a71e508>",
      "text/html": "\n        <iframe\n            width=\"100%\"\n            height=\"650\"\n            src=\"http://127.0.0.1:8050/\"\n            frameborder=\"0\"\n            allowfullscreen\n        ></iframe>\n        "
     },
     "metadata": {},
     "output_type": "display_data"
    }
   ],
   "source": [
    "\n",
    "from jupyter_dash import JupyterDash\n",
    "import dash_html_components as html\n",
    "from dash_extensions import BeforeAfter  # pip install dash-extensions==0.0.47 or higher\n",
    "import dash_bootstrap_components as dbc  # dash-bootstrap-components\n",
    "\n",
    "app = JupyterDash(__name__, external_stylesheets=[dbc.themes.BOOTSTRAP])\n",
    "app.layout = dbc.Container([\n",
    "    dbc.Row(\n",
    "        dbc.Col([\n",
    "            html.H1(\"Before-After Dash Component\", style={'textAlign':'center'})\n",
    "        ], width=12)\n",
    "    ),\n",
    "    html.Hr(),\n",
    "    dbc.Row([\n",
    "        dbc.Col([\n",
    "            # https://nypost.com/2020/08/05/before-and-after-satellite-images-of-the-beirut-explosion/\n",
    "            html.H2(\"Satellite Imagery\"),\n",
    "            BeforeAfter(before=\"assets/beirut1.jpg\", after=\"assets/beirut2.jpg\", width=512, height=412, defaultProgress=0.5),\n",
    "        ], width=6),\n",
    "        dbc.Col([\n",
    "            # https://sustainableearth.blog/2019/05/06/changes-in-marine-habitats/\n",
    "            html.H2(\"Conservation\"),\n",
    "            BeforeAfter(before=\"assets/reef1.jpg\", after=\"assets/reef2.jpg\", width=512, height=412),\n",
    "        ], width=6)\n",
    "\n",
    "    ]),\n",
    "    html.Hr(),\n",
    "    dbc.Row([\n",
    "        dbc.Col([\n",
    "            # https://www.sciencetimes.com/articles/29510/20210205/mbl-researchers-imaged-first-body-plan-moments-embryo.htm\n",
    "            html.H2(\"Marine Biology\"),\n",
    "            BeforeAfter(before=\"assets/ciona-egg1.png\", after=\"assets/ciona-egg2.png\", width=512, height=412),\n",
    "        ], width=6),\n",
    "        dbc.Col([\n",
    "            # https://pressbooks-dev.oer.hawaii.edu/chemistry/chapter/writing-and-balancing-chemical-equations/\n",
    "            html.H2(\"Chemistry\"),\n",
    "            BeforeAfter(before=\"assets/chemistry1.jpg\",after=\"assets/chemistry2.jpg\", width=512, height=412),\n",
    "        ], width=6)\n",
    "    ],className='mb-5'),\n",
    "])\n",
    "\n",
    "\n",
    "\n",
    "if __name__ == '__main__':\n",
    "    app.run_server(mode='inline')"
   ]
  }
 ],
 "metadata": {
  "kernelspec": {
   "display_name": "Python 3",
   "language": "python",
   "name": "python3"
  },
  "language_info": {
   "codemirror_mode": {
    "name": "ipython",
    "version": 2
   },
   "file_extension": ".py",
   "mimetype": "text/x-python",
   "name": "python",
   "nbconvert_exporter": "python",
   "pygments_lexer": "ipython2",
   "version": "2.7.6"
  }
 },
 "nbformat": 4,
 "nbformat_minor": 0
}