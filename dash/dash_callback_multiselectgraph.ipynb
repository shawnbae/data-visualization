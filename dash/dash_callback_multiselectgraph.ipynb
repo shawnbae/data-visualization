{
 "cells": [
  {
   "cell_type": "code",
   "execution_count": 2,
   "metadata": {},
   "outputs": [
    {
     "data": {
      "text/html": [
       "\n",
       "        <iframe\n",
       "            width=\"100%\"\n",
       "            height=\"650\"\n",
       "            src=\"http://127.0.0.1:5550/\"\n",
       "            frameborder=\"0\"\n",
       "            allowfullscreen\n",
       "        ></iframe>\n",
       "        "
      ],
      "text/plain": [
       "<IPython.lib.display.IFrame at 0x179e5e329c8>"
      ]
     },
     "metadata": {},
     "output_type": "display_data"
    },
    {
     "name": "stdout",
     "output_type": "stream",
     "text": [
      "value user chose: ['Fidelity 500 Index Fund', 'Fidelity Advisor Freedom 2035 Fund Class A', 'Fidelity Freedom 2035 Fund']\n",
      "<class 'list'>\n"
     ]
    }
   ],
   "source": [
    "import pandas as pd\n",
    "import plotly.express as px\n",
    "\n",
    "import dash\n",
    "from jupyter_dash import JupyterDash\n",
    "import dash_core_components as dcc\n",
    "import dash_html_components as html\n",
    "from dash.dependencies import Input, Output, State\n",
    "\n",
    "# Data source https://finance.yahoo.com  -Data owner: Stefano Leone on Kaggle\n",
    "df = pd.read_csv(\"https://raw.githubusercontent.com/Coding-with-Adam/Dash-by-Plotly/master/Callbacks/Basic%20Callback/Mutual-Funds.csv\")\n",
    "\n",
    "colors = [\"black\", \"blue\", \"red\", \"yellow\", \"pink\", \"orange\"]\n",
    "\n",
    "app = JupyterDash(__name__)\n",
    "\n",
    "app.layout = html.Div(\n",
    "    children=[\n",
    "        dcc.Dropdown(id='my-dropdown', multi=True,\n",
    "                     options=[{'label': x, 'value': x} for x in sorted(df.fund_extended_name.unique())],\n",
    "                     value=[\"Fidelity 500 Index Fund\", \"Fidelity Advisor Freedom 2035 Fund Class A\",\n",
    "                            \"Fidelity Freedom 2035 Fund\"]),\n",
    "        html.Button(id='my-button', n_clicks=0, children=\"Show breakdown\"),\n",
    "        dcc.Graph(id='graph-output', figure={}),\n",
    "\n",
    "        html.Div(id=\"sentence-output\", children=[\"This is the color I love\"], style={}),\n",
    "        dcc.RadioItems(id='my-radioitem', value=\"black\", options=[{'label': c, 'value': c} for c in colors]),\n",
    "    ]\n",
    ")\n",
    "\n",
    "\n",
    "# Single Input, single Output, State, prevent initial trigger of callback, PreventUpdate\n",
    "@app.callback(\n",
    "    Output(component_id='graph-output', component_property='figure'),\n",
    "    [Input(component_id='my-dropdown', component_property='value')],\n",
    "    # [Input(component_id='my-button', component_property='n_clicks')],\n",
    "    # [State(component_id='my-dropdown', component_property='value')],\n",
    "    prevent_initial_call=False\n",
    ")\n",
    "def update_my_graph(val_chosen):\n",
    "    if len(val_chosen) > 0:\n",
    "        # print(n)\n",
    "        print(f\"value user chose: {val_chosen}\")\n",
    "        print(type(val_chosen))\n",
    "        dff = df[df[\"fund_extended_name\"].isin(val_chosen)]\n",
    "        fig = px.pie(dff, values=\"ytd_return\", names=\"fund_extended_name\", title=\"Year-to-Date Returns\")\n",
    "        fig.update_traces(textinfo=\"value+percent\").update_layout(title_x=0.5)\n",
    "        return fig\n",
    "    elif len(val_chosen) == 0:\n",
    "        raise dash.exceptions.PreventUpdate\n",
    "\n",
    "\n",
    "# Multiple Input, multiple Output, dash.no_update\n",
    "# @app.callback(\n",
    "#     [Output('graph-output', 'figure'), Output('sentence-output', 'style')],\n",
    "#     [Input(component_id='my-radioitem', component_property='value'),\n",
    "#      Input(component_id='my-dropdown', component_property='value')],\n",
    "#     prevent_initial_call=False\n",
    "# )\n",
    "# def update_graph(color_chosen, val_chosen):\n",
    "#     if len(val_chosen) == 0:\n",
    "#         return dash.no_update, {\"color\": color_chosen}\n",
    "#     else:\n",
    "#         dff = df[df[\"fund_extended_name\"].isin(val_chosen)]\n",
    "#         fig = px.pie(dff, values=\"ytd_return\", names=\"fund_extended_name\", title=\"Year-to-Date Returns\")\n",
    "#         fig.update_traces(textinfo=\"value+percent\").update_layout(title_x=0.5)\n",
    "#         return fig, {\"color\": color_chosen}\n",
    "\n",
    "\n",
    "if __name__ == '__main__':\n",
    "    app.run_server(mode='inline', port=5550)"
   ]
  }
 ],
 "metadata": {
  "kernelspec": {
   "display_name": "Python 3",
   "language": "python",
   "name": "python3"
  },
  "language_info": {
   "codemirror_mode": {
    "name": "ipython",
    "version": 3
   },
   "file_extension": ".py",
   "mimetype": "text/x-python",
   "name": "python",
   "nbconvert_exporter": "python",
   "pygments_lexer": "ipython3",
   "version": "3.7.9"
  },
  "toc": {
   "base_numbering": 1,
   "nav_menu": {},
   "number_sections": true,
   "sideBar": true,
   "skip_h1_title": false,
   "title_cell": "Table of Contents",
   "title_sidebar": "Contents",
   "toc_cell": false,
   "toc_position": {},
   "toc_section_display": true,
   "toc_window_display": false
  },
  "varInspector": {
   "cols": {
    "lenName": 16,
    "lenType": 16,
    "lenVar": 40
   },
   "kernels_config": {
    "python": {
     "delete_cmd_postfix": "",
     "delete_cmd_prefix": "del ",
     "library": "var_list.py",
     "varRefreshCmd": "print(var_dic_list())"
    },
    "r": {
     "delete_cmd_postfix": ") ",
     "delete_cmd_prefix": "rm(",
     "library": "var_list.r",
     "varRefreshCmd": "cat(var_dic_list()) "
    }
   },
   "types_to_exclude": [
    "module",
    "function",
    "builtin_function_or_method",
    "instance",
    "_Feature"
   ],
   "window_display": false
  }
 },
 "nbformat": 4,
 "nbformat_minor": 4
}
