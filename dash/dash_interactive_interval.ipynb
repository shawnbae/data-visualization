{
 "cells": [
  {
   "cell_type": "code",
   "execution_count": null,
   "metadata": {
    "collapsed": true
   },
   "outputs": [],
   "source": [
    "import plotly\n",
    "import plotly.graph_objects as go\n",
    "\n",
    "from jupyter_dash import JupyterDash\n",
    "import dash_core_components as dcc\n",
    "import dash_html_components as html\n",
    "from dash.dependencies import Input, Output\n",
    "from dash.exceptions import PreventUpdate\n",
    "\n",
    "app = JupyterDash(__name__)\n",
    "\n",
    "#------------------------------------------------------------------------\n",
    "app.layout = html.Div([\n",
    "    dcc.Interval(\n",
    "                id='my_interval',\n",
    "                disabled=False,     #if True, the counter will no longer update\n",
    "                interval=1*3000,    #increment the counter n_intervals every interval milliseconds\n",
    "                n_intervals=0,      #number of times the interval has passed\n",
    "                max_intervals=4,    #number of times the interval will be fired.\n",
    "                                    #if -1, then the interval has no limit (the default)\n",
    "                                    #and if 0 then the interval stops running.\n",
    "    ),\n",
    "\n",
    "    html.Div(id='output_data', style={'font-size':36}),\n",
    "    dcc.Input(id=\"input_text\",type='text'),\n",
    "    dcc.Graph(id=\"mybarchart\"),\n",
    "\n",
    "])\n",
    "\n",
    "#------------------------------------------------------------------------\n",
    "@app.callback(\n",
    "    [Output('output_data', 'children'),\n",
    "     Output('mybarchart', 'figure')],\n",
    "    [Input('my_interval', 'n_intervals')]\n",
    ")\n",
    "def update_graph(num):\n",
    "    \"\"\"update every 3 seconds\"\"\"\n",
    "    if num==0:\n",
    "        raise PreventUpdate\n",
    "    else:\n",
    "        y_data=num\n",
    "        fig=go.Figure(data=[go.Bar(x=[1, 2, 3, 4, 5, 6, 7, 8, 9], y=[y_data]*9)],\n",
    "                      layout=go.Layout(yaxis=dict(tickfont=dict(size=22)))\n",
    "        )\n",
    "\n",
    "    return (y_data,fig)\n",
    "\n",
    "#------------------------------------------------------------------------\n",
    "@app.callback(\n",
    "    Output('my_interval', 'max_intervals'),\n",
    "    [Input('input_text', 'value')]\n",
    ")\n",
    "def stop_interval(retrieved_text):\n",
    "    if retrieved_text == 'stop':\n",
    "        max_intervals = 0\n",
    "    else:\n",
    "        raise PreventUpdate\n",
    "\n",
    "    return (max_intervals)\n",
    "#------------------------------------------------------------------------\n",
    "\n",
    "if __name__ == '__main__':\n",
    "    app.run_server(mode='inline')\n"
   ]
  }
 ],
 "metadata": {
  "kernelspec": {
   "display_name": "Python 3",
   "language": "python",
   "name": "python3"
  },
  "language_info": {
   "codemirror_mode": {
    "name": "ipython",
    "version": 2
   },
   "file_extension": ".py",
   "mimetype": "text/x-python",
   "name": "python",
   "nbconvert_exporter": "python",
   "pygments_lexer": "ipython2",
   "version": "2.7.6"
  }
 },
 "nbformat": 4,
 "nbformat_minor": 0
}